{
 "cells": [
  {
   "cell_type": "markdown",
   "metadata": {},
   "source": [
    "import pandas as pd\n",
    "import numpy as np\n",
    "import datetime \n",
    "import tqdm\n",
    "\n",
    "import requests\n",
    "import json\n",
    "\n",
    "from string import punctuation\n",
    "from nltk.corpus import stopwords\n",
    "from gensim.models.keyedvectors import KeyedVectors\n",
    "from nltk.tokenize import WhitespaceTokenizer\n",
    "exclude = set(punctuation + u'0123456789[]—«»–')\n",
    "from pymorphy2 import MorphAnalyzer\n",
    "\n",
    "from sklearn.feature_extraction.text import TfidfVectorizer\n",
    "from gensim.models import word2vec\n",
    "\n",
    "from catboost import Pool, CatBoostClassifier\n",
    "from  sklearn.model_selection import train_test_split\n",
    "from sklearn.metrics import roc_auc_score\n",
    "\n",
    "from itertools import product\n",
    "from __future__ import division\n",
    "from collections import Counter\n",
    "import functools\n",
    "import re\n",
    "import string\n",
    "import nltk"
   ]
  },
  {
   "cell_type": "code",
   "execution_count": 2,
   "metadata": {},
   "outputs": [
    {
     "name": "stdout",
     "output_type": "stream",
     "text": [
      "[nltk_data] Downloading package punkt to\n",
      "[nltk_data]     C:\\Users\\ndmel\\AppData\\Roaming\\nltk_data...\n",
      "[nltk_data]   Package punkt is already up-to-date!\n"
     ]
    },
    {
     "data": {
      "text/plain": [
       "True"
      ]
     },
     "execution_count": 2,
     "metadata": {},
     "output_type": "execute_result"
    }
   ],
   "source": [
    "nltk.download('punkt')"
   ]
  },
  {
   "cell_type": "code",
   "execution_count": 3,
   "metadata": {
    "collapsed": true
   },
   "outputs": [],
   "source": [
    "pd.set_option('max_colwidth', 1000)"
   ]
  },
  {
   "cell_type": "code",
   "execution_count": 4,
   "metadata": {
    "collapsed": true
   },
   "outputs": [],
   "source": [
    "remove_punctuation_map = dict((ord(char), None) for char in string.punctuation)\n",
    "stemmer = nltk.stem.porter.PorterStemmer()\n",
    "\n",
    "def stem_tokens(tokens):\n",
    "    return [stemmer.stem(item) for item in tokens]\n",
    "\n",
    "def preprocess(text):\n",
    "    return ' '.join(stem_tokens(nltk.word_tokenize(text.lower().translate(remove_punctuation_map))))\n",
    "\n",
    "# def preprocess(text):\n",
    "#     buf = ''.join(ch for ch in text if ch not in exclude)\n",
    "#     tokens = WhitespaceTokenizer().tokenize(buf.lower())\n",
    "#     lemmatizer = MorphAnalyzer()\n",
    "#     lemmas = []\n",
    "#     for t in tokens[:]:\n",
    "#         if not t in stopwords.words('russian'):\n",
    "#             try:\n",
    "#                 lemma = lemmatizer.parse(t)[0].normal_form\n",
    "#             except: \n",
    "#                 lemma = t\n",
    "#             lemmas.append(lemma)\n",
    "#     return ' '.join(lemmas)"
   ]
  },
  {
   "cell_type": "code",
   "execution_count": 5,
   "metadata": {
    "collapsed": true
   },
   "outputs": [],
   "source": [
    "@functools.lru_cache(maxsize=2 ** 19)\n",
    "def uniq_words(text):\n",
    "    return set(re.findall(\"\\w+\", text))\n",
    "\n",
    "def calculate_idfs(data):\n",
    "    counter = Counter()\n",
    "    uniq_skills = list()\n",
    "    for skill_set in tqdm.tqdm(data['skill_set_preprocessed'], desc=\"calc idf for paragraph\"):\n",
    "        counter.update(set(skill_set))\n",
    "        \n",
    "    num_docs = data.shape[0]\n",
    "    idfs = {}\n",
    "    for word in counter:\n",
    "        idfs[word] = counter[word]\n",
    "    return idfs"
   ]
  },
  {
   "cell_type": "code",
   "execution_count": 6,
   "metadata": {
    "collapsed": true
   },
   "outputs": [],
   "source": [
    "def texts_overlap(t1, t2):\n",
    "    \n",
    "    '''\n",
    "        t1 - skill\n",
    "        t2 - search text\n",
    "    '''\n",
    "    \n",
    "    if pd.isnull(t1) or len(t1) == 0:\n",
    "        return 0\n",
    "    if pd.isnull(t2) or len(t2) == 0:\n",
    "        return 0\n",
    "    \n",
    "    word_count = 0\n",
    "    for word1 in t1.split(' '):\n",
    "        if word1 in t2.split(' '):\n",
    "            word_count += 1\n",
    "            \n",
    "    return word_count / len(t1.split(' '))"
   ]
  },
  {
   "cell_type": "code",
   "execution_count": 7,
   "metadata": {
    "collapsed": true
   },
   "outputs": [],
   "source": [
    "def fill_resume(id_url):\n",
    "    \n",
    "    count = resume_df.shape[0]\n",
    "    r = requests.get(base_url + id_url)\n",
    "    resume = json.loads(r.text)\n",
    "    \n",
    "    # base\n",
    "    resume_df.loc[count, 'id'] = resume.get('id')\n",
    "#     resume_df.loc[count, 'age'] = resume.get('age')\n",
    "#     resume_df.loc[count, 'first_name'] = resume.get('first_name')\n",
    "#     resume_df.loc[count, 'last_name'] = resume.get('last_name')\n",
    "    resume_df.loc[count, 'skill_set'] = str(resume.get('skill_set'))\n",
    "    resume_df.loc[count, 'skill_set_preprocessed'] = str([preprocess(x) for x in resume.get('skill_set')])\n",
    "\n",
    "    # jobs\n",
    "#     count_jobs = jobs_df.shape[0]\n",
    "#     if not pd.isnull(resume.get('experience')).all():\n",
    "#         for e, experience in enumerate(resume.get('experience')):\n",
    "\n",
    "#             jobs_df.loc[count_jobs + e, 'resume_id'] = resume.get('id')\n",
    "#             jobs_df.loc[count_jobs + e, 'company_id'] = experience.get('company_id')\n",
    "#             jobs_df.loc[count_jobs + e, 'company'] = experience.get('company')\n",
    "#             jobs_df.loc[count_jobs + e, 'description'] = experience.get('description')\n",
    "#             jobs_df.loc[count_jobs + e, 'start'] = experience.get('start')\n",
    "#             jobs_df.loc[count_jobs + e, 'end'] = experience.get('end')\n",
    "#             jobs_df.loc[count_jobs + e, 'position'] = experience.get('position')\n",
    "            \n",
    "#             # area\n",
    "#             area = experience.get('area')\n",
    "#             if not pd.isnull(area):\n",
    "#                 jobs_df.loc[count_jobs + e, 'area_id'] = area.get('id')\n",
    "#                 jobs_df.loc[count_jobs + e, 'area'] = area.get('name') "
   ]
  },
  {
   "cell_type": "markdown",
   "metadata": {},
   "source": [
    "## данные"
   ]
  },
  {
   "cell_type": "code",
   "execution_count": 8,
   "metadata": {
    "collapsed": true
   },
   "outputs": [],
   "source": [
    "chat_ids = ['2f8f6ec6000435cfc70039ed1f45306e387558', '016bea2e0000c902ea0039ed1f514235754343', 'cd9c1e66000109eb5c0039ed1f6d726b6a4937', '6b8c829b00038ee9470039ed1f6c4a30326a43','337f25cc000380a8ca0039ed1f7745554c5333',\n",
    "           '13855d8f000403568f0039ed1f796833587a4f', 'ef2b55ce0001ef0f400039ed1f4c73726d6464', '22bd974a00036f11c80039ed1f65375736594e', 'a5d68189000274614d0039ed1f6262706b3948']\n",
    "medic_ids = ['1dbe69160001ae8a390039ed1f364134526d46','a81f07b600013c595f0039ed1f695533515773', 'd310507e0001471d4d0039ed1f47674c536768', '922449e2000130dc850039ed1f786e685a5732', 'c8c62e31000189fc690039ed1f62354932386b',\n",
    "            '883f2c570002db914f0039ed1f56556561587a', 'b91eae8d0003e9b3510039ed1f396646413130', '608f15ac00031bacc90039ed1f33465375624c', 'e84d0d950003c0cad70039ed1f394f65473937', 'a6238e73000354ac6e0039ed1f663970634966']\n",
    "driver_ids = ['6415d7eb00007a36710039ed1f736563726574', '846da09a00021b77e20039ed1f63576b6f3832', '6c38ef930003d1eae30039ed1f365043694b35', 'a655dc4900042abd5e0039ed1f59707647684e', 'f82208070002ca2a740039ed1f4f4c4d716e30',\n",
    "             '73c897850000930ecb0039ed1f736563726574', 'f4d1f06f00033573de0039ed1f51674b745357', '5ecd54e000023bd7970039ed1f796f66497a68', '907bb8410004350ce50039ed1f324c44303745']\n",
    "\n",
    "analytics = ['5141528400020285a80039ed1f6d434b776667', 'bd94952e0003723cf80039ed1f7448774f6d69', '3446b6820003c3384d0039ed1f4e4a72776966', '06a56f1e000404c1ae0039ed1f546f74437a7a',\n",
    "             '90733f8500041d0e4e0039ed1f51324649766a', 'a0f42b320000e01d580039ed1f774756544f42', '2425ef0c00041dfaef0039ed1f6977786a6442', 'a61ac917000127e38d0039ed1f31716162796d', '05bc19c4000206b5c40039ed1f555058764c34',\n",
    "             '4471c6c800004fdf670039ed1f736563726574', '6578189d0000ad2f710039ed1f736563726574', 'dad443cb000247d5c10039ed1f78554b675143', 'fd2167820003f074510039ed1f61536e433246', '1d79352100029e53930039ed1f417a75397773', \n",
    "             'f0a03b4b0002d893070039ed1f54304c4f7872', 'fd2bb2130001fb43e80039ed1f305a5a333166', '9abe579e0000bafce70039ed1f736563726574', 'c21ddb3c00025400940039ed1f596743595774', 'a97d01350003092e090039ed1f6465694e7661',\n",
    "             'fba5505c0002ca04b60039ed1f555856796b55']\n",
    "\n",
    "all_ids = np.append(chat_ids, np.append(medic_ids, np.append(analytics, driver_ids)))\n",
    "\n",
    "base_url = 'https://api.hh.ru/resumes/'\n",
    "\n",
    "# jobs_df = pd.DataFrame(columns = ['resume_id', 'company_id', 'company', 'start', 'end', 'description', 'area', 'area_id', 'position'])\n",
    "resume_df = pd.DataFrame(columns = ['id', 'skill_set', 'skill_set_preprocessed'])"
   ]
  },
  {
   "cell_type": "code",
   "execution_count": 9,
   "metadata": {
    "scrolled": true
   },
   "outputs": [
    {
     "name": "stderr",
     "output_type": "stream",
     "text": [
      "100%|██████████████████████████████████████████████████████████████████████████████████| 48/48 [00:10<00:00,  4.51it/s]\n"
     ]
    }
   ],
   "source": [
    "for id_url in tqdm.tqdm(all_ids, total = len(all_ids)):\n",
    "    fill_resume(id_url)"
   ]
  },
  {
   "cell_type": "code",
   "execution_count": 10,
   "metadata": {
    "collapsed": true
   },
   "outputs": [],
   "source": [
    "resume_df.to_csv('data/resume_df_1.csv', sep=';', encoding='cp1251', index = False)"
   ]
  },
  {
   "cell_type": "code",
   "execution_count": 227,
   "metadata": {
    "collapsed": true
   },
   "outputs": [],
   "source": [
    "resume_df = pd.read_csv('data/resume_df_1.csv', sep=';', encoding='cp1251')\n",
    "resume_df.skill_set = resume_df.skill_set.map(lambda x: x.strip(\"[]\").replace('\\'', '').split(', '))\n",
    "resume_df.skill_set_preprocessed = resume_df.skill_set_preprocessed.map(lambda x: x.strip(\"[]\").replace('\\'', '').split(', '))"
   ]
  },
  {
   "cell_type": "markdown",
   "metadata": {},
   "source": [
    "## Описание вакансии"
   ]
  },
  {
   "cell_type": "code",
   "execution_count": 229,
   "metadata": {
    "collapsed": true
   },
   "outputs": [],
   "source": [
    "import pickle"
   ]
  },
  {
   "cell_type": "code",
   "execution_count": 230,
   "metadata": {
    "collapsed": true
   },
   "outputs": [],
   "source": [
    "def save_obj(obj, name ):\n",
    "    with open('data/'+ name + '.pkl', 'wb') as f:\n",
    "        pickle.dump(obj, f, pickle.HIGHEST_PROTOCOL)\n",
    "\n",
    "def load_obj(name ):\n",
    "    with open('data/' + name + '.pkl', 'rb') as f:\n",
    "        return pickle.load(f)"
   ]
  },
  {
   "cell_type": "code",
   "execution_count": null,
   "metadata": {
    "collapsed": true
   },
   "outputs": [],
   "source": []
  },
  {
   "cell_type": "code",
   "execution_count": 245,
   "metadata": {
    "scrolled": true
   },
   "outputs": [
    {
     "data": {
      "text/plain": [
       "array([ list(['Python', 'Celery', 'Flask', 'Redis', 'RabbitMQ', 'PostgreSQL', 'Docker', 'Docker Swarm', 'Sentry', 'Linux', 'Reverse engineering', 'React', 'ES6', 'Git', 'WebSocket']),\n",
       "       list(['Управление лояльностью потребителей', 'Оптимизация бизнес-процессов', 'Руководство коллективом', 'CRM', 'Развитие дистанционных каналов продаж и обслуживания', 'Продажи через интернет', 'Прямые продажи']),\n",
       "       list(['']),\n",
       "       list(['Internet Marketing', 'Яндекс.Метрика', 'Google Analytics', 'Google AdWords', 'Яндекс.Директ', 'Контекстная реклама', 'CRM', 'Управление отношениями с клиентами', 'Интернет-реклама', 'Баннерная реклама', 'Yandex Direct', 'Лидогенерация', 'E-Mail Marketing', 'E-Commerce', 'Social Media Marketing', 'B2C маркетинг', 'B2B Marketing', 'Интернет маркетинг', 'Маркетинг услуг', 'Информационные технологии', 'Usability', 'WEB аналитика', 'ERP Systems', 'RTB', 'CPA', 'Аналитика продаж', 'Автоматизация продаж', 'Автоматизация контекстных кампаний', 'SEM', 'SEO оптимизация']),\n",
       "       list(['MS Word', 'MS Excel', 'MS PowerPoint', 'Prezi', 'MS SQL', 'Access', 'Mathcad', 'MATLAB', 'C/C++', 'Python', 'Английский язык', 'AutoCAD', 'Windows Forms', 'Qt', 'C#', 'ARIS', 'Pega', 'Atlassian Jira', 'Oxygen Xml Editor', 'Unix', 'SOAP']),\n",
       "       list(['Web Application Development', 'SQL', 'NoSQL', 'JavaScript', 'Clojure (ClojureScript)', 'React Native', 'GraphQL', 'C#', 'Scrum', 'Управление командой', 'Менторство']),\n",
       "       list(['']),\n",
       "       list(['MS Visual C++', 'Python', 'JavaScript', 'Английский язык', 'Linux', 'Java EE', 'SQLite', 'Java Core', 'MS SQL', 'Intellij IDEA']),\n",
       "       list(['Английский язык', 'Тестирование', 'Django Framework', 'Python', 'HTML', 'HTML5', 'CSS3', 'CSS', 'Bootstrap', 'Zend Framework', '.NET Framework', 'ASP.NET', 'JavaScript', 'React.js', 'Node.js', 'API', 'Git', 'C#', 'MS Visual Studio', 'C++', 'MS SQL Server']),\n",
       "       list(['Работа в команде', 'Психология', 'Управление персоналом', 'Медицинская документация', 'Ориентация на результат', 'Административная поддержка руководителя', 'Внутренний контроль', 'Работа с людьми', 'Водительские права категории В', 'Преподаватель', 'Грамотная речь', 'Обучение и развитие']),\n",
       "       list(['Продвижение бренда', 'Управление командой', 'Участие в профессиональных выставках', 'Наличие контактов с журналистами', 'Анализ PR стратегии конкурентов', 'Управление проектами', 'Проведение презентаций', 'Разработка концепции', 'Работа со СМИ', 'Подготовка презентаций', 'Разработка нового продукта', 'Internet Marketing', 'Организация презентаций', 'Программы лояльности', 'Маркетинговые коммуникации']),\n",
       "       list(['']), list(['']), list(['']), list(['']),\n",
       "       list(['Работы с лекарственными препаратами', 'Работа с документацией', 'Владею практическими навыками лечения животных', 'Работа на ветеринарном оборудовании', 'Работа в электронных системах ветеринарного учета']),\n",
       "       list(['']), list(['Рентгенография']),\n",
       "       list(['Работа в команде', 'Пользователь ПК', 'Навыки межличностного общения', 'Организаторские навыки', 'Активные продажи', 'Управление продажами', 'Водительское удостоверение категории B']),\n",
       "       list(['Умение работать в команде', 'Грамотная речь', 'Пользователь ПК', 'Английский язык', 'Грамотность', 'Работа в команде']),\n",
       "       list(['1C: Бухгалтерия', 'Деловая переписка', 'Статистический анализ', 'Анализ данных', 'MS Outlook', 'Телефонные переговоры', 'Английский язык', 'MS Excel', 'Работа в команде', 'Выявление потребностей в обучении', 'Групповое обучение', 'Организация внешнего обучения', 'Обучение']),\n",
       "       list(['Аналитические исследования', 'MS Office', 'Анализ данных', 'Деловая переписка', 'Финансовый контроль', 'SMM', 'Написание статей', 'Редактирование текстов', 'Верстка', 'Финансовое моделирование', 'Корпоративные финансы', 'Adobe InDesign', 'Полиграфический дизайн', 'Управленческий учет']),\n",
       "       list(['']),\n",
       "       list(['Маркетинговые исследования', 'Маркетинговые коммуникации', 'Продвижение бренда', 'Анализ рынка', 'прогнозирование продаж', 'B2B маркетинг', 'Социологические исследования', 'SWOT анализ', 'MS PowerPoint', 'Adobe Photoshop', 'Аналитическое мышление', 'Навыки презентации', 'Творческое мышление', 'Маркетинговый анализ', 'Подготовка презентаций', 'Поиск информации в интернет', 'Поиск и привлечение клиентов', 'SMS маркетинг', 'Стратегическое мышление', 'Оценка потребностей клиентов', 'Анализ PR стратегии конкурентов', 'Анализ конкурентной среды', 'Статистический анализ', 'Аналитические исследования', 'Яндекс.Директ', 'Google AdWords', 'Google Analytics', 'Cоциальный маркетинг', 'Продвижение объекта', 'Планирование маркетинговых кампаний']),\n",
       "       list(['']),\n",
       "       list(['Английский язык', 'MS Office', 'MS PowerPoint', 'SMM', 'MS Excel', 'ERP', '1С', 'WEB аналитика', 'Веб-аналитика', 'Google Analytics', 'Яндекс.Метрика', 'MS SQL', 'Аналитика', 'Python']),\n",
       "       list(['Уверенный пользователь ПК (Excel', 'Word', 'PowerPoint', 'Internet', 'соц. сети)', 'База данных: Olap']),\n",
       "       list(['Деловая переписка', 'Финансовый анализ', 'Ценные бумаги', 'Аналитические исследования', 'Деловое общение', 'Пользователь ПК', 'Делопроизводство', 'Экономический анализ', 'Консультант плюс', 'Публичные выступления', '1С: Предприятие 8', 'Quik', 'Анализ макроэкономической среды', 'TRAMO\\\\\\\\SEATS', 'Data Mining']),\n",
       "       list(['Большой опыт налаживания бизнес-процессов  в области складской логистики', 'Проведённые проекты по автоматизации  ск.к.: \"МультиДом Трейдинг\" - WMS \"Бухта\" \"Винторг\" - \"EME.WMS']),\n",
       "       list(['Оценка стоимости бизнеса', 'Корпоративные финансы', 'Инвестиции', 'Проектное финансирование', 'Инвестиционный анализ', 'Бюджетирование', 'Руководство коллективом', 'Аналитические исследования', 'Бизнес-планирование', 'Финансовый анализ', 'Финансовое планирование', 'Оценка инвестиционных проектов', 'Финансовое моделирование', 'Ведение переговоров', 'Анализ инвестиционных проектов', 'Организаторские навыки', 'Деловая переписка', 'Работа с инвесторами', 'Финансовый менеджмент', 'Инвестиционный консалтинг', 'Проведение презентаций', 'Оценка недвижимости', 'Привлечение денежных средств', 'Привлечение инвестиций']),\n",
       "       list(['Контроль ведения налоговой отчетности', 'Локальное налогообложение', 'Сопровождение налогового аудита', 'Финансовый контроль', 'Управление налоговыми рисками', 'Оптимизация налогообложения', 'Финансовый анализ', 'Российские стандарты бухгалтерского учета', 'Управление рисками', 'Управленческая отчетность', 'трансфертное ценообразование', 'планирование и прогнозирование', 'Внутренний финансовый аудит', 'консультаций в области налогообложения РФ', 'правил РСБУ и ТЦО', 'представление интересов Компании во взаимодействии с налоговыми органами', 'аудиторами', 'анализ и оценка инвестиционных и инновационных проектов', 'анализ финансово-хозяйственной деятельности организации', 'постановки/снятия с учета в налоговом органе и едином государственном реестре юридических лиц']),\n",
       "       list(['Пользователь ПК', 'Adobe Photoshop', 'MS Word', 'MS Excel', 'MS Outlook', 'MS Access', 'MS PowerPoint', 'Документооборот', 'Электронный документооборот', 'Архивирование', 'Делопроизводство', 'Ведение отчетности', 'Английский язык', 'Грамотная речь', 'Работа с системами аналитики', 'Написание научный статей', 'Написание пресс-релизов', 'Организация мероприятий', 'Аналитический склад ума', 'Adobe Acrobat', 'GR', 'Работа с большим объемом информации', 'Офисная техника', 'Работа со СМИ', 'Грамотность', 'Деловое общение', 'Телефонные переговоры', 'Сводные таблицы', 'ВПР']),\n",
       "       list(['Управление орг изменениями.Внедрение и метод поддержка процессного', 'проектного управления.']),\n",
       "       list(['Статистический анализ', 'Scrum', 'Agile Project Management', 'Atlassian Confluence', 'Atlassian Jira', 'MS Outlook', 'MS Visio', 'MS PowerPoint', 'Работа в команде', 'Product Development', 'Разработка продукта', 'Customer Needs Analysis', 'Product Management', 'Управление продуктом']),\n",
       "       list(['аналитик в области экономических исследований', 'Ведение переговоров', 'консультирование в области агробизнеса', 'перевод (английский)', 'Проектное финансирование', 'Редакторская деятельность', 'Управление проектами']),\n",
       "       list(['Бюджетирование', 'Планирование', 'Статистика', 'MS Outlook', 'Расчет себестоимости', '1С: Предприятие 8', 'Аналитические исследования', 'Управление проектами', 'Краткосрочное бюджетирование и планирование', 'Управленческая отчетность', 'Формирование бюджета', 'Управленческий учет', 'Английский язык', 'Экономический анализ', 'Финансовое планирование', 'Статистический анализ']),\n",
       "       list(['Администрирование сетевого оборудования', 'Настройка сетевых подключений', 'TCP/IP', 'CUCM', 'Аналитическое мышление', 'Разработка инструкций', 'Обучение', 'Ведение переговоров', 'Работа в команде']),\n",
       "       list(['MS Excel', 'Подготовка отчетов', 'MS Word', 'MS PowerPoint', 'Яндекс.Директ', 'Яндекс.Метрика', 'Google AdWords', 'Google Analytics', 'Копирайтинг', 'EMAIL', 'HTML', 'JOOMLA', 'WIX', 'Создание сайтов', 'Работа с доменами', 'Таргетинг', 'SMM', 'Adobe Photoshop', 'Английский язык', 'Google Docs', 'Adobe Analytics', 'Social Media Marketing', 'Keynotes', 'Ведение групп в социальных сетях', 'MS Project', 'SERM', 'CPC', 'CPM', 'CPL', 'UTM']),\n",
       "       list(['Cистемы управления базами данных', 'Управление проектами', 'Математическое программирование', 'Ведение переговоров', 'Проведение презентаций', 'MS SQL', 'Математическая статистика', 'Написание научный статей', 'C/C++', 'Статистический анализ', 'Математическое моделирование', 'Анализ данных', 'Математический анализ', 'Аналитика', 'MATLAB']),\n",
       "       list(['']), list(['']), list(['']), list(['']), list(['']),\n",
       "       list(['1С: Торговля', 'Adobe Photoshop', 'HTTP', 'iOS', 'MS Excel', 'MS Outlook', 'MS Word', 'Sphinx', 'Windows Server 2003', 'Windows Server 2008', 'Windows Server 2012', 'Mac Os', 'Водительское удостоверение категории B', 'MS Internet Explorer', 'Ведение переговоров', 'Прямые продажи', 'Холодные продажи', 'Работа с дебиторской задолженностью', 'Поиск и привлечение клиентов', 'HoReCa', 'Охрана объекта', 'работа с текущей базой клиентов', 'Вождение автомобилей представительского класса', 'Управление офисными водителями']),\n",
       "       list(['Умение работать в команде', 'Водительское  удостоверение категории BC', 'Работа с людьми', 'Материальная отвественность']),\n",
       "       list(['большой опыт работы на авто премиум класса', 'свобдная ориентация по  Москве без навигатора']),\n",
       "       list(['Пользователь ПК', 'Работа с базами данных', 'Internet', 'Офисная техника', 'Поиск информации в интернет', 'Сканер', 'Ксерокс', 'FineReader', 'Работа с документами', 'Умение работать в коллективе', 'Corel PHOTO-PAINT', 'работа с программой Armo на базе Access', '1С: Предприятие 8', '1С: Управление торговлей 8. Редакция 11.3'])], dtype=object)"
      ]
     },
     "execution_count": 245,
     "metadata": {},
     "output_type": "execute_result"
    }
   ],
   "source": [
    "resume_df.skill_set.values"
   ]
  },
  {
   "cell_type": "code",
   "execution_count": 246,
   "metadata": {
    "collapsed": true
   },
   "outputs": [],
   "source": [
    "tests = ['Хотим найти аналитик со занием ms word, ms excel, ms powerpoint.\\\n",
    "В его задачи будет входить оптимизация бизнес-процессов, руководство стажерами по направлению, web аналитика, аналитика продаж, автоматизация продаж.\\\n",
    "Плюсом будет умение подготовки и организации презентаций, знание google analytics и google AdWords.']"
   ]
  },
  {
   "cell_type": "code",
   "execution_count": 247,
   "metadata": {},
   "outputs": [
    {
     "name": "stderr",
     "output_type": "stream",
     "text": [
      "calc idf for paragraph: 100%|██████████████████████████████████████████████████████████████████| 48/48 [00:00<?, ?it/s]\n"
     ]
    }
   ],
   "source": [
    "idfs = calculate_idfs(resume_df)\n",
    "idfs_mean = np.mean(list(idfs.values()))\n",
    "\n",
    "save_obj(idfs, 'idfs')"
   ]
  },
  {
   "cell_type": "code",
   "execution_count": 248,
   "metadata": {},
   "outputs": [
    {
     "name": "stderr",
     "output_type": "stream",
     "text": [
      "100%|████████████████████████████████████████████████████████████████████████████████████| 1/1 [00:00<00:00, 62.32it/s]\n"
     ]
    }
   ],
   "source": [
    "test_df = pd.DataFrame()\n",
    "\n",
    "count = 0\n",
    "for test in tqdm.tqdm(tests, total = len(tests)):\n",
    "    test_df.loc[count, 'text'] = test\n",
    "    test = preprocess(test)\n",
    "    \n",
    "    skills = []\n",
    "    for index, row in resume_df.iterrows():\n",
    "        skill_set = row.skill_set_preprocessed\n",
    "        \n",
    "        for skill in skill_set:\n",
    "            if skill in test:\n",
    "                skills.append(skill)\n",
    "            elif texts_overlap(skill, test) >= 0.5:\n",
    "                skills.append(skill)\n",
    "    \n",
    "    if len(skills) != 0:\n",
    "        skills = set(skills)\n",
    "        skills = [x for x in skills if len(x) > 0]\n",
    "        test_df.loc[count, 'skills'] = str(list(skills))\n",
    "        test_df.loc[count, 'essential_skills'] = str([x for x in skills if idfs.get(x) > idfs_mean])\n",
    "        test_df.loc[count, 'nice_to_have_skills'] = str([x for x in skills if idfs.get(x) <= idfs_mean])\n",
    "\n",
    "    count += 1\n",
    "    "
   ]
  },
  {
   "cell_type": "code",
   "execution_count": 249,
   "metadata": {},
   "outputs": [
    {
     "data": {
      "text/html": [
       "<div>\n",
       "<style>\n",
       "    .dataframe thead tr:only-child th {\n",
       "        text-align: right;\n",
       "    }\n",
       "\n",
       "    .dataframe thead th {\n",
       "        text-align: left;\n",
       "    }\n",
       "\n",
       "    .dataframe tbody tr th {\n",
       "        vertical-align: top;\n",
       "    }\n",
       "</style>\n",
       "<table border=\"1\" class=\"dataframe\">\n",
       "  <thead>\n",
       "    <tr style=\"text-align: right;\">\n",
       "      <th></th>\n",
       "      <th>text</th>\n",
       "      <th>skills</th>\n",
       "      <th>essential_skills</th>\n",
       "      <th>nice_to_have_skills</th>\n",
       "    </tr>\n",
       "  </thead>\n",
       "  <tbody>\n",
       "    <tr>\n",
       "      <th>0</th>\n",
       "      <td>Хотим найти аналитик со занием ms word, ms excel, ms powerpoint, трудолюбивого, имеющего водительское удостоверение, пунктуального.В его задачи будет входить оптимизация бизнес-процессов, руководство стажерами по направлению, web аналитика, аналитика продаж, автоматизация продаж.Плюсом будет умение подготовки и организации презентаций, знание google analytics и google AdWords.</td>\n",
       "      <td>['водительское удостоверение категории bc', 'adob analyt', 'ms powerpoint', 'автоматизация продаж', 'ms visio', 'аналитика', 'seo оптимизация', 'водительское удостоверение категории b', 'ms outlook', 'googl doc', 'руководство коллективом', 'googl adword', 'ms offic', 'прогнозирование продаж', 'организация презентаций', 'c', 'ms sql', 'ms word', 'ms project', 'erp', 'ms excel', 'проведение презентаций', 'оптимизация бизнеспроцессов', 'подготовка презентаций', 'web аналитика', 'ms access', 'googl analyt', 'оптимизация налогообложения', 'аналитика продаж']</td>\n",
       "      <td>['ms powerpoint', 'аналитика', 'водительское удостоверение категории b', 'ms outlook', 'руководство коллективом', 'googl adword', 'ms offic', 'c', 'ms sql', 'ms word', 'ms excel', 'проведение презентаций', 'подготовка презентаций', 'web аналитика', 'googl analyt']</td>\n",
       "      <td>['водительское удостоверение категории bc', 'adob analyt', 'автоматизация продаж', 'ms visio', 'seo оптимизация', 'googl doc', 'прогнозирование продаж', 'организация презентаций', 'ms project', 'erp', 'оптимизация бизнеспроцессов', 'ms access', 'оптимизация налогообложения', 'аналитика продаж']</td>\n",
       "    </tr>\n",
       "  </tbody>\n",
       "</table>\n",
       "</div>"
      ],
      "text/plain": [
       "                                                                                                                                                                                                                                                                                                                                                                                          text  \\\n",
       "0  Хотим найти аналитик со занием ms word, ms excel, ms powerpoint, трудолюбивого, имеющего водительское удостоверение, пунктуального.В его задачи будет входить оптимизация бизнес-процессов, руководство стажерами по направлению, web аналитика, аналитика продаж, автоматизация продаж.Плюсом будет умение подготовки и организации презентаций, знание google analytics и google AdWords.   \n",
       "\n",
       "                                                                                                                                                                                                                                                                                                                                                                                                                                                                                                                                                                            skills  \\\n",
       "0  ['водительское удостоверение категории bc', 'adob analyt', 'ms powerpoint', 'автоматизация продаж', 'ms visio', 'аналитика', 'seo оптимизация', 'водительское удостоверение категории b', 'ms outlook', 'googl doc', 'руководство коллективом', 'googl adword', 'ms offic', 'прогнозирование продаж', 'организация презентаций', 'c', 'ms sql', 'ms word', 'ms project', 'erp', 'ms excel', 'проведение презентаций', 'оптимизация бизнеспроцессов', 'подготовка презентаций', 'web аналитика', 'ms access', 'googl analyt', 'оптимизация налогообложения', 'аналитика продаж']   \n",
       "\n",
       "                                                                                                                                                                                                                                                           essential_skills  \\\n",
       "0  ['ms powerpoint', 'аналитика', 'водительское удостоверение категории b', 'ms outlook', 'руководство коллективом', 'googl adword', 'ms offic', 'c', 'ms sql', 'ms word', 'ms excel', 'проведение презентаций', 'подготовка презентаций', 'web аналитика', 'googl analyt']   \n",
       "\n",
       "                                                                                                                                                                                                                                                                                       nice_to_have_skills  \n",
       "0  ['водительское удостоверение категории bc', 'adob analyt', 'автоматизация продаж', 'ms visio', 'seo оптимизация', 'googl doc', 'прогнозирование продаж', 'организация презентаций', 'ms project', 'erp', 'оптимизация бизнеспроцессов', 'ms access', 'оптимизация налогообложения', 'аналитика продаж']  "
      ]
     },
     "execution_count": 249,
     "metadata": {},
     "output_type": "execute_result"
    }
   ],
   "source": [
    "test_df"
   ]
  },
  {
   "cell_type": "markdown",
   "metadata": {},
   "source": [
    "## Достаем резюме по описанию вакансии"
   ]
  },
  {
   "cell_type": "code",
   "execution_count": 250,
   "metadata": {
    "collapsed": true
   },
   "outputs": [],
   "source": [
    "test_df.skills = test_df.skills.map(lambda x: x.strip(\"[]\").replace('\\'', '').split(', '))\n",
    "test_df.essential_skills = test_df.essential_skills.map(lambda x: x.strip(\"[]\").replace('\\'', '').split(', '))\n",
    "test_df.nice_to_have_skills = test_df.nice_to_have_skills.map(lambda x: x.strip(\"[]\").replace('\\'', '').split(', '))"
   ]
  },
  {
   "cell_type": "code",
   "execution_count": 251,
   "metadata": {},
   "outputs": [
    {
     "name": "stderr",
     "output_type": "stream",
     "text": [
      "100%|████████████████████████████████████████████████████████████████████████████████████| 1/1 [00:00<00:00, 15.34it/s]\n"
     ]
    }
   ],
   "source": [
    "result = pd.DataFrame(columns=np.append(test_df.columns, np.append(resume_df.columns, ['es_skills_counter', 'nth_skills_counter'])))\n",
    "\n",
    "count = 0\n",
    "for index, test in tqdm.tqdm(test_df.iterrows(), total = test_df.shape[0]):\n",
    "\n",
    "    for jindex, row in resume_df.iterrows():\n",
    "\n",
    "        es_skills = test.essential_skills\n",
    "        es_skills_counter = 0\n",
    "\n",
    "        nth_skills = test.nice_to_have_skills\n",
    "        nth_skills_counter = 0\n",
    "\n",
    "        for skill in row.skill_set_preprocessed:\n",
    "#             print(es_skills)\n",
    "            if pd.notnull(es_skills).all() and skill in es_skills:\n",
    "                es_skills_counter += 1\n",
    "\n",
    "            if pd.notnull(nth_skills).all() and skill in nth_skills:\n",
    "                nth_skills_counter += 1\n",
    "\n",
    "        if es_skills_counter > 0 or nth_skills_counter > 0:\n",
    "            result.loc[count, test_df.columns.values] = test\n",
    "            result.loc[count, resume_df.columns.values] = row\n",
    "            result.loc[count, 'es_skills_counter'] = es_skills_counter\n",
    "            result.loc[count, 'nth_skills_counter'] = nth_skills_counter\n",
    "            \n",
    "            count += 1"
   ]
  },
  {
   "cell_type": "code",
   "execution_count": 252,
   "metadata": {
    "scrolled": false
   },
   "outputs": [
    {
     "data": {
      "text/html": [
       "<div>\n",
       "<style>\n",
       "    .dataframe thead tr:only-child th {\n",
       "        text-align: right;\n",
       "    }\n",
       "\n",
       "    .dataframe thead th {\n",
       "        text-align: left;\n",
       "    }\n",
       "\n",
       "    .dataframe tbody tr th {\n",
       "        vertical-align: top;\n",
       "    }\n",
       "</style>\n",
       "<table border=\"1\" class=\"dataframe\">\n",
       "  <thead>\n",
       "    <tr style=\"text-align: right;\">\n",
       "      <th></th>\n",
       "      <th>text</th>\n",
       "      <th>essential_skills</th>\n",
       "      <th>nice_to_have_skills</th>\n",
       "      <th>id</th>\n",
       "      <th>skill_set</th>\n",
       "      <th>es_skills_counter</th>\n",
       "      <th>nth_skills_counter</th>\n",
       "    </tr>\n",
       "  </thead>\n",
       "  <tbody>\n",
       "    <tr>\n",
       "      <th>11</th>\n",
       "      <td>Хотим найти аналитик со занием ms word, ms excel, ms powerpoint, трудолюбивого, имеющего водительское удостоверение, пунктуального.В его задачи будет входить оптимизация бизнес-процессов, руководство стажерами по направлению, web аналитика, аналитика продаж, автоматизация продаж.Плюсом будет умение подготовки и организации презентаций, знание google analytics и google AdWords.</td>\n",
       "      <td>[ms powerpoint, аналитика, водительское удостоверение категории b, ms outlook, руководство коллективом, googl adword, ms offic, c, ms sql, ms word, ms excel, проведение презентаций, подготовка презентаций, web аналитика, googl analyt]</td>\n",
       "      <td>[водительское удостоверение категории bc, adob analyt, автоматизация продаж, ms visio, seo оптимизация, googl doc, прогнозирование продаж, организация презентаций, ms project, erp, оптимизация бизнеспроцессов, ms access, оптимизация налогообложения, аналитика продаж]</td>\n",
       "      <td>2425ef0c00041dfaef0039ed1f6977786a6442</td>\n",
       "      <td>[Английский язык, MS Office, MS PowerPoint, SMM, MS Excel, ERP, 1С, WEB аналитика, Веб-аналитика, Google Analytics, Яндекс.Метрика, MS SQL, Аналитика, Python]</td>\n",
       "      <td>7</td>\n",
       "      <td>1</td>\n",
       "    </tr>\n",
       "    <tr>\n",
       "      <th>17</th>\n",
       "      <td>Хотим найти аналитик со занием ms word, ms excel, ms powerpoint, трудолюбивого, имеющего водительское удостоверение, пунктуального.В его задачи будет входить оптимизация бизнес-процессов, руководство стажерами по направлению, web аналитика, аналитика продаж, автоматизация продаж.Плюсом будет умение подготовки и организации презентаций, знание google analytics и google AdWords.</td>\n",
       "      <td>[ms powerpoint, аналитика, водительское удостоверение категории b, ms outlook, руководство коллективом, googl adword, ms offic, c, ms sql, ms word, ms excel, проведение презентаций, подготовка презентаций, web аналитика, googl analyt]</td>\n",
       "      <td>[водительское удостоверение категории bc, adob analyt, автоматизация продаж, ms visio, seo оптимизация, googl doc, прогнозирование продаж, организация презентаций, ms project, erp, оптимизация бизнеспроцессов, ms access, оптимизация налогообложения, аналитика продаж]</td>\n",
       "      <td>a97d01350003092e090039ed1f6465694e7661</td>\n",
       "      <td>[MS Excel, Подготовка отчетов, MS Word, MS PowerPoint, Яндекс.Директ, Яндекс.Метрика, Google AdWords, Google Analytics, Копирайтинг, EMAIL, HTML, JOOMLA, WIX, Создание сайтов, Работа с доменами, Таргетинг, SMM, Adobe Photoshop, Английский язык, Google Docs, Adobe Analytics, Social Media Marketing, Keynotes, Ведение групп в социальных сетях, MS Project, SERM, CPC, CPM, CPL, UTM]</td>\n",
       "      <td>5</td>\n",
       "      <td>3</td>\n",
       "    </tr>\n",
       "    <tr>\n",
       "      <th>2</th>\n",
       "      <td>Хотим найти аналитик со занием ms word, ms excel, ms powerpoint, трудолюбивого, имеющего водительское удостоверение, пунктуального.В его задачи будет входить оптимизация бизнес-процессов, руководство стажерами по направлению, web аналитика, аналитика продаж, автоматизация продаж.Плюсом будет умение подготовки и организации презентаций, знание google analytics и google AdWords.</td>\n",
       "      <td>[ms powerpoint, аналитика, водительское удостоверение категории b, ms outlook, руководство коллективом, googl adword, ms offic, c, ms sql, ms word, ms excel, проведение презентаций, подготовка презентаций, web аналитика, googl analyt]</td>\n",
       "      <td>[водительское удостоверение категории bc, adob analyt, автоматизация продаж, ms visio, seo оптимизация, googl doc, прогнозирование продаж, организация презентаций, ms project, erp, оптимизация бизнеспроцессов, ms access, оптимизация налогообложения, аналитика продаж]</td>\n",
       "      <td>337f25cc000380a8ca0039ed1f7745554c5333</td>\n",
       "      <td>[MS Word, MS Excel, MS PowerPoint, Prezi, MS SQL, Access, Mathcad, MATLAB, C/C++, Python, Английский язык, AutoCAD, Windows Forms, Qt, C#, ARIS, Pega, Atlassian Jira, Oxygen Xml Editor, Unix, SOAP]</td>\n",
       "      <td>5</td>\n",
       "      <td>0</td>\n",
       "    </tr>\n",
       "    <tr>\n",
       "      <th>10</th>\n",
       "      <td>Хотим найти аналитик со занием ms word, ms excel, ms powerpoint, трудолюбивого, имеющего водительское удостоверение, пунктуального.В его задачи будет входить оптимизация бизнес-процессов, руководство стажерами по направлению, web аналитика, аналитика продаж, автоматизация продаж.Плюсом будет умение подготовки и организации презентаций, знание google analytics и google AdWords.</td>\n",
       "      <td>[ms powerpoint, аналитика, водительское удостоверение категории b, ms outlook, руководство коллективом, googl adword, ms offic, c, ms sql, ms word, ms excel, проведение презентаций, подготовка презентаций, web аналитика, googl analyt]</td>\n",
       "      <td>[водительское удостоверение категории bc, adob analyt, автоматизация продаж, ms visio, seo оптимизация, googl doc, прогнозирование продаж, организация презентаций, ms project, erp, оптимизация бизнеспроцессов, ms access, оптимизация налогообложения, аналитика продаж]</td>\n",
       "      <td>90733f8500041d0e4e0039ed1f51324649766a</td>\n",
       "      <td>[Маркетинговые исследования, Маркетинговые коммуникации, Продвижение бренда, Анализ рынка, прогнозирование продаж, B2B маркетинг, Социологические исследования, SWOT анализ, MS PowerPoint, Adobe Photoshop, Аналитическое мышление, Навыки презентации, Творческое мышление, Маркетинговый анализ, Подготовка презентаций, Поиск информации в интернет, Поиск и привлечение клиентов, SMS маркетинг, Стратегическое мышление, Оценка потребностей клиентов, Анализ PR стратегии конкурентов, Анализ конкурентной среды, Статистический анализ, Аналитические исследования, Яндекс.Директ, Google AdWords, Google Analytics, Cоциальный маркетинг, Продвижение объекта, Планирование маркетинговых кампаний]</td>\n",
       "      <td>4</td>\n",
       "      <td>1</td>\n",
       "    </tr>\n",
       "    <tr>\n",
       "      <th>14</th>\n",
       "      <td>Хотим найти аналитик со занием ms word, ms excel, ms powerpoint, трудолюбивого, имеющего водительское удостоверение, пунктуального.В его задачи будет входить оптимизация бизнес-процессов, руководство стажерами по направлению, web аналитика, аналитика продаж, автоматизация продаж.Плюсом будет умение подготовки и организации презентаций, знание google analytics и google AdWords.</td>\n",
       "      <td>[ms powerpoint, аналитика, водительское удостоверение категории b, ms outlook, руководство коллективом, googl adword, ms offic, c, ms sql, ms word, ms excel, проведение презентаций, подготовка презентаций, web аналитика, googl analyt]</td>\n",
       "      <td>[водительское удостоверение категории bc, adob analyt, автоматизация продаж, ms visio, seo оптимизация, googl doc, прогнозирование продаж, организация презентаций, ms project, erp, оптимизация бизнеспроцессов, ms access, оптимизация налогообложения, аналитика продаж]</td>\n",
       "      <td>fd2167820003f074510039ed1f61536e433246</td>\n",
       "      <td>[Пользователь ПК, Adobe Photoshop, MS Word, MS Excel, MS Outlook, MS Access, MS PowerPoint, Документооборот, Электронный документооборот, Архивирование, Делопроизводство, Ведение отчетности, Английский язык, Грамотная речь, Работа с системами аналитики, Написание научный статей, Написание пресс-релизов, Организация мероприятий, Аналитический склад ума, Adobe Acrobat, GR, Работа с большим объемом информации, Офисная техника, Работа со СМИ, Грамотность, Деловое общение, Телефонные переговоры, Сводные таблицы, ВПР]</td>\n",
       "      <td>4</td>\n",
       "      <td>1</td>\n",
       "    </tr>\n",
       "    <tr>\n",
       "      <th>19</th>\n",
       "      <td>Хотим найти аналитик со занием ms word, ms excel, ms powerpoint, трудолюбивого, имеющего водительское удостоверение, пунктуального.В его задачи будет входить оптимизация бизнес-процессов, руководство стажерами по направлению, web аналитика, аналитика продаж, автоматизация продаж.Плюсом будет умение подготовки и организации презентаций, знание google analytics и google AdWords.</td>\n",
       "      <td>[ms powerpoint, аналитика, водительское удостоверение категории b, ms outlook, руководство коллективом, googl adword, ms offic, c, ms sql, ms word, ms excel, проведение презентаций, подготовка презентаций, web аналитика, googl analyt]</td>\n",
       "      <td>[водительское удостоверение категории bc, adob analyt, автоматизация продаж, ms visio, seo оптимизация, googl doc, прогнозирование продаж, организация презентаций, ms project, erp, оптимизация бизнеспроцессов, ms access, оптимизация налогообложения, аналитика продаж]</td>\n",
       "      <td>73c897850000930ecb0039ed1f736563726574</td>\n",
       "      <td>[1С: Торговля, Adobe Photoshop, HTTP, iOS, MS Excel, MS Outlook, MS Word, Sphinx, Windows Server 2003, Windows Server 2008, Windows Server 2012, Mac Os, Водительское удостоверение категории B, MS Internet Explorer, Ведение переговоров, Прямые продажи, Холодные продажи, Работа с дебиторской задолженностью, Поиск и привлечение клиентов, HoReCa, Охрана объекта, работа с текущей базой клиентов, Вождение автомобилей представительского класса, Управление офисными водителями]</td>\n",
       "      <td>4</td>\n",
       "      <td>0</td>\n",
       "    </tr>\n",
       "    <tr>\n",
       "      <th>1</th>\n",
       "      <td>Хотим найти аналитик со занием ms word, ms excel, ms powerpoint, трудолюбивого, имеющего водительское удостоверение, пунктуального.В его задачи будет входить оптимизация бизнес-процессов, руководство стажерами по направлению, web аналитика, аналитика продаж, автоматизация продаж.Плюсом будет умение подготовки и организации презентаций, знание google analytics и google AdWords.</td>\n",
       "      <td>[ms powerpoint, аналитика, водительское удостоверение категории b, ms outlook, руководство коллективом, googl adword, ms offic, c, ms sql, ms word, ms excel, проведение презентаций, подготовка презентаций, web аналитика, googl analyt]</td>\n",
       "      <td>[водительское удостоверение категории bc, adob analyt, автоматизация продаж, ms visio, seo оптимизация, googl doc, прогнозирование продаж, организация презентаций, ms project, erp, оптимизация бизнеспроцессов, ms access, оптимизация налогообложения, аналитика продаж]</td>\n",
       "      <td>6b8c829b00038ee9470039ed1f6c4a30326a43</td>\n",
       "      <td>[Internet Marketing, Яндекс.Метрика, Google Analytics, Google AdWords, Яндекс.Директ, Контекстная реклама, CRM, Управление отношениями с клиентами, Интернет-реклама, Баннерная реклама, Yandex Direct, Лидогенерация, E-Mail Marketing, E-Commerce, Social Media Marketing, B2C маркетинг, B2B Marketing, Интернет маркетинг, Маркетинг услуг, Информационные технологии, Usability, WEB аналитика, ERP Systems, RTB, CPA, Аналитика продаж, Автоматизация продаж, Автоматизация контекстных кампаний, SEM, SEO оптимизация]</td>\n",
       "      <td>3</td>\n",
       "      <td>3</td>\n",
       "    </tr>\n",
       "    <tr>\n",
       "      <th>18</th>\n",
       "      <td>Хотим найти аналитик со занием ms word, ms excel, ms powerpoint, трудолюбивого, имеющего водительское удостоверение, пунктуального.В его задачи будет входить оптимизация бизнес-процессов, руководство стажерами по направлению, web аналитика, аналитика продаж, автоматизация продаж.Плюсом будет умение подготовки и организации презентаций, знание google analytics и google AdWords.</td>\n",
       "      <td>[ms powerpoint, аналитика, водительское удостоверение категории b, ms outlook, руководство коллективом, googl adword, ms offic, c, ms sql, ms word, ms excel, проведение презентаций, подготовка презентаций, web аналитика, googl analyt]</td>\n",
       "      <td>[водительское удостоверение категории bc, adob analyt, автоматизация продаж, ms visio, seo оптимизация, googl doc, прогнозирование продаж, организация презентаций, ms project, erp, оптимизация бизнеспроцессов, ms access, оптимизация налогообложения, аналитика продаж]</td>\n",
       "      <td>fba5505c0002ca04b60039ed1f555856796b55</td>\n",
       "      <td>[Cистемы управления базами данных, Управление проектами, Математическое программирование, Ведение переговоров, Проведение презентаций, MS SQL, Математическая статистика, Написание научный статей, C/C++, Статистический анализ, Математическое моделирование, Анализ данных, Математический анализ, Аналитика, MATLAB]</td>\n",
       "      <td>3</td>\n",
       "      <td>0</td>\n",
       "    </tr>\n",
       "    <tr>\n",
       "      <th>6</th>\n",
       "      <td>Хотим найти аналитик со занием ms word, ms excel, ms powerpoint, трудолюбивого, имеющего водительское удостоверение, пунктуального.В его задачи будет входить оптимизация бизнес-процессов, руководство стажерами по направлению, web аналитика, аналитика продаж, автоматизация продаж.Плюсом будет умение подготовки и организации презентаций, знание google analytics и google AdWords.</td>\n",
       "      <td>[ms powerpoint, аналитика, водительское удостоверение категории b, ms outlook, руководство коллективом, googl adword, ms offic, c, ms sql, ms word, ms excel, проведение презентаций, подготовка презентаций, web аналитика, googl analyt]</td>\n",
       "      <td>[водительское удостоверение категории bc, adob analyt, автоматизация продаж, ms visio, seo оптимизация, googl doc, прогнозирование продаж, организация презентаций, ms project, erp, оптимизация бизнеспроцессов, ms access, оптимизация налогообложения, аналитика продаж]</td>\n",
       "      <td>a81f07b600013c595f0039ed1f695533515773</td>\n",
       "      <td>[Продвижение бренда, Управление командой, Участие в профессиональных выставках, Наличие контактов с журналистами, Анализ PR стратегии конкурентов, Управление проектами, Проведение презентаций, Разработка концепции, Работа со СМИ, Подготовка презентаций, Разработка нового продукта, Internet Marketing, Организация презентаций, Программы лояльности, Маркетинговые коммуникации]</td>\n",
       "      <td>2</td>\n",
       "      <td>1</td>\n",
       "    </tr>\n",
       "    <tr>\n",
       "      <th>15</th>\n",
       "      <td>Хотим найти аналитик со занием ms word, ms excel, ms powerpoint, трудолюбивого, имеющего водительское удостоверение, пунктуального.В его задачи будет входить оптимизация бизнес-процессов, руководство стажерами по направлению, web аналитика, аналитика продаж, автоматизация продаж.Плюсом будет умение подготовки и организации презентаций, знание google analytics и google AdWords.</td>\n",
       "      <td>[ms powerpoint, аналитика, водительское удостоверение категории b, ms outlook, руководство коллективом, googl adword, ms offic, c, ms sql, ms word, ms excel, проведение презентаций, подготовка презентаций, web аналитика, googl analyt]</td>\n",
       "      <td>[водительское удостоверение категории bc, adob analyt, автоматизация продаж, ms visio, seo оптимизация, googl doc, прогнозирование продаж, организация презентаций, ms project, erp, оптимизация бизнеспроцессов, ms access, оптимизация налогообложения, аналитика продаж]</td>\n",
       "      <td>f0a03b4b0002d893070039ed1f54304c4f7872</td>\n",
       "      <td>[Статистический анализ, Scrum, Agile Project Management, Atlassian Confluence, Atlassian Jira, MS Outlook, MS Visio, MS PowerPoint, Работа в команде, Product Development, Разработка продукта, Customer Needs Analysis, Product Management, Управление продуктом]</td>\n",
       "      <td>2</td>\n",
       "      <td>1</td>\n",
       "    </tr>\n",
       "    <tr>\n",
       "      <th>5</th>\n",
       "      <td>Хотим найти аналитик со занием ms word, ms excel, ms powerpoint, трудолюбивого, имеющего водительское удостоверение, пунктуального.В его задачи будет входить оптимизация бизнес-процессов, руководство стажерами по направлению, web аналитика, аналитика продаж, автоматизация продаж.Плюсом будет умение подготовки и организации презентаций, знание google analytics и google AdWords.</td>\n",
       "      <td>[ms powerpoint, аналитика, водительское удостоверение категории b, ms outlook, руководство коллективом, googl adword, ms offic, c, ms sql, ms word, ms excel, проведение презентаций, подготовка презентаций, web аналитика, googl analyt]</td>\n",
       "      <td>[водительское удостоверение категории bc, adob analyt, автоматизация продаж, ms visio, seo оптимизация, googl doc, прогнозирование продаж, организация презентаций, ms project, erp, оптимизация бизнеспроцессов, ms access, оптимизация налогообложения, аналитика продаж]</td>\n",
       "      <td>a5d68189000274614d0039ed1f6262706b3948</td>\n",
       "      <td>[Английский язык, Тестирование, Django Framework, Python, HTML, HTML5, CSS3, CSS, Bootstrap, Zend Framework, .NET Framework, ASP.NET, JavaScript, React.js, Node.js, API, Git, C#, MS Visual Studio, C++, MS SQL Server]</td>\n",
       "      <td>2</td>\n",
       "      <td>0</td>\n",
       "    </tr>\n",
       "    <tr>\n",
       "      <th>8</th>\n",
       "      <td>Хотим найти аналитик со занием ms word, ms excel, ms powerpoint, трудолюбивого, имеющего водительское удостоверение, пунктуального.В его задачи будет входить оптимизация бизнес-процессов, руководство стажерами по направлению, web аналитика, аналитика продаж, автоматизация продаж.Плюсом будет умение подготовки и организации презентаций, знание google analytics и google AdWords.</td>\n",
       "      <td>[ms powerpoint, аналитика, водительское удостоверение категории b, ms outlook, руководство коллективом, googl adword, ms offic, c, ms sql, ms word, ms excel, проведение презентаций, подготовка презентаций, web аналитика, googl analyt]</td>\n",
       "      <td>[водительское удостоверение категории bc, adob analyt, автоматизация продаж, ms visio, seo оптимизация, googl doc, прогнозирование продаж, организация презентаций, ms project, erp, оптимизация бизнеспроцессов, ms access, оптимизация налогообложения, аналитика продаж]</td>\n",
       "      <td>bd94952e0003723cf80039ed1f7448774f6d69</td>\n",
       "      <td>[1C: Бухгалтерия, Деловая переписка, Статистический анализ, Анализ данных, MS Outlook, Телефонные переговоры, Английский язык, MS Excel, Работа в команде, Выявление потребностей в обучении, Групповое обучение, Организация внешнего обучения, Обучение]</td>\n",
       "      <td>2</td>\n",
       "      <td>0</td>\n",
       "    </tr>\n",
       "    <tr>\n",
       "      <th>12</th>\n",
       "      <td>Хотим найти аналитик со занием ms word, ms excel, ms powerpoint, трудолюбивого, имеющего водительское удостоверение, пунктуального.В его задачи будет входить оптимизация бизнес-процессов, руководство стажерами по направлению, web аналитика, аналитика продаж, автоматизация продаж.Плюсом будет умение подготовки и организации презентаций, знание google analytics и google AdWords.</td>\n",
       "      <td>[ms powerpoint, аналитика, водительское удостоверение категории b, ms outlook, руководство коллективом, googl adword, ms offic, c, ms sql, ms word, ms excel, проведение презентаций, подготовка презентаций, web аналитика, googl analyt]</td>\n",
       "      <td>[водительское удостоверение категории bc, adob analyt, автоматизация продаж, ms visio, seo оптимизация, googl doc, прогнозирование продаж, организация презентаций, ms project, erp, оптимизация бизнеспроцессов, ms access, оптимизация налогообложения, аналитика продаж]</td>\n",
       "      <td>6578189d0000ad2f710039ed1f736563726574</td>\n",
       "      <td>[Оценка стоимости бизнеса, Корпоративные финансы, Инвестиции, Проектное финансирование, Инвестиционный анализ, Бюджетирование, Руководство коллективом, Аналитические исследования, Бизнес-планирование, Финансовый анализ, Финансовое планирование, Оценка инвестиционных проектов, Финансовое моделирование, Ведение переговоров, Анализ инвестиционных проектов, Организаторские навыки, Деловая переписка, Работа с инвесторами, Финансовый менеджмент, Инвестиционный консалтинг, Проведение презентаций, Оценка недвижимости, Привлечение денежных средств, Привлечение инвестиций]</td>\n",
       "      <td>2</td>\n",
       "      <td>0</td>\n",
       "    </tr>\n",
       "    <tr>\n",
       "      <th>0</th>\n",
       "      <td>Хотим найти аналитик со занием ms word, ms excel, ms powerpoint, трудолюбивого, имеющего водительское удостоверение, пунктуального.В его задачи будет входить оптимизация бизнес-процессов, руководство стажерами по направлению, web аналитика, аналитика продаж, автоматизация продаж.Плюсом будет умение подготовки и организации презентаций, знание google analytics и google AdWords.</td>\n",
       "      <td>[ms powerpoint, аналитика, водительское удостоверение категории b, ms outlook, руководство коллективом, googl adword, ms offic, c, ms sql, ms word, ms excel, проведение презентаций, подготовка презентаций, web аналитика, googl analyt]</td>\n",
       "      <td>[водительское удостоверение категории bc, adob analyt, автоматизация продаж, ms visio, seo оптимизация, googl doc, прогнозирование продаж, организация презентаций, ms project, erp, оптимизация бизнеспроцессов, ms access, оптимизация налогообложения, аналитика продаж]</td>\n",
       "      <td>016bea2e0000c902ea0039ed1f514235754343</td>\n",
       "      <td>[Управление лояльностью потребителей, Оптимизация бизнес-процессов, Руководство коллективом, CRM, Развитие дистанционных каналов продаж и обслуживания, Продажи через интернет, Прямые продажи]</td>\n",
       "      <td>1</td>\n",
       "      <td>1</td>\n",
       "    </tr>\n",
       "    <tr>\n",
       "      <th>3</th>\n",
       "      <td>Хотим найти аналитик со занием ms word, ms excel, ms powerpoint, трудолюбивого, имеющего водительское удостоверение, пунктуального.В его задачи будет входить оптимизация бизнес-процессов, руководство стажерами по направлению, web аналитика, аналитика продаж, автоматизация продаж.Плюсом будет умение подготовки и организации презентаций, знание google analytics и google AdWords.</td>\n",
       "      <td>[ms powerpoint, аналитика, водительское удостоверение категории b, ms outlook, руководство коллективом, googl adword, ms offic, c, ms sql, ms word, ms excel, проведение презентаций, подготовка презентаций, web аналитика, googl analyt]</td>\n",
       "      <td>[водительское удостоверение категории bc, adob analyt, автоматизация продаж, ms visio, seo оптимизация, googl doc, прогнозирование продаж, организация презентаций, ms project, erp, оптимизация бизнеспроцессов, ms access, оптимизация налогообложения, аналитика продаж]</td>\n",
       "      <td>13855d8f000403568f0039ed1f796833587a4f</td>\n",
       "      <td>[Web Application Development, SQL, NoSQL, JavaScript, Clojure (ClojureScript), React Native, GraphQL, C#, Scrum, Управление командой, Менторство]</td>\n",
       "      <td>1</td>\n",
       "      <td>0</td>\n",
       "    </tr>\n",
       "    <tr>\n",
       "      <th>4</th>\n",
       "      <td>Хотим найти аналитик со занием ms word, ms excel, ms powerpoint, трудолюбивого, имеющего водительское удостоверение, пунктуального.В его задачи будет входить оптимизация бизнес-процессов, руководство стажерами по направлению, web аналитика, аналитика продаж, автоматизация продаж.Плюсом будет умение подготовки и организации презентаций, знание google analytics и google AdWords.</td>\n",
       "      <td>[ms powerpoint, аналитика, водительское удостоверение категории b, ms outlook, руководство коллективом, googl adword, ms offic, c, ms sql, ms word, ms excel, проведение презентаций, подготовка презентаций, web аналитика, googl analyt]</td>\n",
       "      <td>[водительское удостоверение категории bc, adob analyt, автоматизация продаж, ms visio, seo оптимизация, googl doc, прогнозирование продаж, организация презентаций, ms project, erp, оптимизация бизнеспроцессов, ms access, оптимизация налогообложения, аналитика продаж]</td>\n",
       "      <td>22bd974a00036f11c80039ed1f65375736594e</td>\n",
       "      <td>[MS Visual C++, Python, JavaScript, Английский язык, Linux, Java EE, SQLite, Java Core, MS SQL, Intellij IDEA]</td>\n",
       "      <td>1</td>\n",
       "      <td>0</td>\n",
       "    </tr>\n",
       "    <tr>\n",
       "      <th>7</th>\n",
       "      <td>Хотим найти аналитик со занием ms word, ms excel, ms powerpoint, трудолюбивого, имеющего водительское удостоверение, пунктуального.В его задачи будет входить оптимизация бизнес-процессов, руководство стажерами по направлению, web аналитика, аналитика продаж, автоматизация продаж.Плюсом будет умение подготовки и организации презентаций, знание google analytics и google AdWords.</td>\n",
       "      <td>[ms powerpoint, аналитика, водительское удостоверение категории b, ms outlook, руководство коллективом, googl adword, ms offic, c, ms sql, ms word, ms excel, проведение презентаций, подготовка презентаций, web аналитика, googl analyt]</td>\n",
       "      <td>[водительское удостоверение категории bc, adob analyt, автоматизация продаж, ms visio, seo оптимизация, googl doc, прогнозирование продаж, организация презентаций, ms project, erp, оптимизация бизнеспроцессов, ms access, оптимизация налогообложения, аналитика продаж]</td>\n",
       "      <td>a6238e73000354ac6e0039ed1f663970634966</td>\n",
       "      <td>[Работа в команде, Пользователь ПК, Навыки межличностного общения, Организаторские навыки, Активные продажи, Управление продажами, Водительское удостоверение категории B]</td>\n",
       "      <td>1</td>\n",
       "      <td>0</td>\n",
       "    </tr>\n",
       "    <tr>\n",
       "      <th>9</th>\n",
       "      <td>Хотим найти аналитик со занием ms word, ms excel, ms powerpoint, трудолюбивого, имеющего водительское удостоверение, пунктуального.В его задачи будет входить оптимизация бизнес-процессов, руководство стажерами по направлению, web аналитика, аналитика продаж, автоматизация продаж.Плюсом будет умение подготовки и организации презентаций, знание google analytics и google AdWords.</td>\n",
       "      <td>[ms powerpoint, аналитика, водительское удостоверение категории b, ms outlook, руководство коллективом, googl adword, ms offic, c, ms sql, ms word, ms excel, проведение презентаций, подготовка презентаций, web аналитика, googl analyt]</td>\n",
       "      <td>[водительское удостоверение категории bc, adob analyt, автоматизация продаж, ms visio, seo оптимизация, googl doc, прогнозирование продаж, организация презентаций, ms project, erp, оптимизация бизнеспроцессов, ms access, оптимизация налогообложения, аналитика продаж]</td>\n",
       "      <td>3446b6820003c3384d0039ed1f4e4a72776966</td>\n",
       "      <td>[Аналитические исследования, MS Office, Анализ данных, Деловая переписка, Финансовый контроль, SMM, Написание статей, Редактирование текстов, Верстка, Финансовое моделирование, Корпоративные финансы, Adobe InDesign, Полиграфический дизайн, Управленческий учет]</td>\n",
       "      <td>1</td>\n",
       "      <td>0</td>\n",
       "    </tr>\n",
       "    <tr>\n",
       "      <th>16</th>\n",
       "      <td>Хотим найти аналитик со занием ms word, ms excel, ms powerpoint, трудолюбивого, имеющего водительское удостоверение, пунктуального.В его задачи будет входить оптимизация бизнес-процессов, руководство стажерами по направлению, web аналитика, аналитика продаж, автоматизация продаж.Плюсом будет умение подготовки и организации презентаций, знание google analytics и google AdWords.</td>\n",
       "      <td>[ms powerpoint, аналитика, водительское удостоверение категории b, ms outlook, руководство коллективом, googl adword, ms offic, c, ms sql, ms word, ms excel, проведение презентаций, подготовка презентаций, web аналитика, googl analyt]</td>\n",
       "      <td>[водительское удостоверение категории bc, adob analyt, автоматизация продаж, ms visio, seo оптимизация, googl doc, прогнозирование продаж, организация презентаций, ms project, erp, оптимизация бизнеспроцессов, ms access, оптимизация налогообложения, аналитика продаж]</td>\n",
       "      <td>9abe579e0000bafce70039ed1f736563726574</td>\n",
       "      <td>[Бюджетирование, Планирование, Статистика, MS Outlook, Расчет себестоимости, 1С: Предприятие 8, Аналитические исследования, Управление проектами, Краткосрочное бюджетирование и планирование, Управленческая отчетность, Формирование бюджета, Управленческий учет, Английский язык, Экономический анализ, Финансовое планирование, Статистический анализ]</td>\n",
       "      <td>1</td>\n",
       "      <td>0</td>\n",
       "    </tr>\n",
       "    <tr>\n",
       "      <th>13</th>\n",
       "      <td>Хотим найти аналитик со занием ms word, ms excel, ms powerpoint, трудолюбивого, имеющего водительское удостоверение, пунктуального.В его задачи будет входить оптимизация бизнес-процессов, руководство стажерами по направлению, web аналитика, аналитика продаж, автоматизация продаж.Плюсом будет умение подготовки и организации презентаций, знание google analytics и google AdWords.</td>\n",
       "      <td>[ms powerpoint, аналитика, водительское удостоверение категории b, ms outlook, руководство коллективом, googl adword, ms offic, c, ms sql, ms word, ms excel, проведение презентаций, подготовка презентаций, web аналитика, googl analyt]</td>\n",
       "      <td>[водительское удостоверение категории bc, adob analyt, автоматизация продаж, ms visio, seo оптимизация, googl doc, прогнозирование продаж, организация презентаций, ms project, erp, оптимизация бизнеспроцессов, ms access, оптимизация налогообложения, аналитика продаж]</td>\n",
       "      <td>dad443cb000247d5c10039ed1f78554b675143</td>\n",
       "      <td>[Контроль ведения налоговой отчетности, Локальное налогообложение, Сопровождение налогового аудита, Финансовый контроль, Управление налоговыми рисками, Оптимизация налогообложения, Финансовый анализ, Российские стандарты бухгалтерского учета, Управление рисками, Управленческая отчетность, трансфертное ценообразование, планирование и прогнозирование, Внутренний финансовый аудит, консультаций в области налогообложения РФ, правил РСБУ и ТЦО, представление интересов Компании во взаимодействии с налоговыми органами, аудиторами, анализ и оценка инвестиционных и инновационных проектов, анализ финансово-хозяйственной деятельности организации, постановки/снятия с учета в налоговом органе и едином государственном реестре юридических лиц]</td>\n",
       "      <td>0</td>\n",
       "      <td>1</td>\n",
       "    </tr>\n",
       "    <tr>\n",
       "      <th>20</th>\n",
       "      <td>Хотим найти аналитик со занием ms word, ms excel, ms powerpoint, трудолюбивого, имеющего водительское удостоверение, пунктуального.В его задачи будет входить оптимизация бизнес-процессов, руководство стажерами по направлению, web аналитика, аналитика продаж, автоматизация продаж.Плюсом будет умение подготовки и организации презентаций, знание google analytics и google AdWords.</td>\n",
       "      <td>[ms powerpoint, аналитика, водительское удостоверение категории b, ms outlook, руководство коллективом, googl adword, ms offic, c, ms sql, ms word, ms excel, проведение презентаций, подготовка презентаций, web аналитика, googl analyt]</td>\n",
       "      <td>[водительское удостоверение категории bc, adob analyt, автоматизация продаж, ms visio, seo оптимизация, googl doc, прогнозирование продаж, организация презентаций, ms project, erp, оптимизация бизнеспроцессов, ms access, оптимизация налогообложения, аналитика продаж]</td>\n",
       "      <td>f4d1f06f00033573de0039ed1f51674b745357</td>\n",
       "      <td>[Умение работать в команде, Водительское  удостоверение категории BC, Работа с людьми, Материальная отвественность]</td>\n",
       "      <td>0</td>\n",
       "      <td>1</td>\n",
       "    </tr>\n",
       "  </tbody>\n",
       "</table>\n",
       "</div>"
      ],
      "text/plain": [
       "                                                                                                                                                                                                                                                                                                                                                                                           text  \\\n",
       "11  Хотим найти аналитик со занием ms word, ms excel, ms powerpoint, трудолюбивого, имеющего водительское удостоверение, пунктуального.В его задачи будет входить оптимизация бизнес-процессов, руководство стажерами по направлению, web аналитика, аналитика продаж, автоматизация продаж.Плюсом будет умение подготовки и организации презентаций, знание google analytics и google AdWords.   \n",
       "17  Хотим найти аналитик со занием ms word, ms excel, ms powerpoint, трудолюбивого, имеющего водительское удостоверение, пунктуального.В его задачи будет входить оптимизация бизнес-процессов, руководство стажерами по направлению, web аналитика, аналитика продаж, автоматизация продаж.Плюсом будет умение подготовки и организации презентаций, знание google analytics и google AdWords.   \n",
       "2   Хотим найти аналитик со занием ms word, ms excel, ms powerpoint, трудолюбивого, имеющего водительское удостоверение, пунктуального.В его задачи будет входить оптимизация бизнес-процессов, руководство стажерами по направлению, web аналитика, аналитика продаж, автоматизация продаж.Плюсом будет умение подготовки и организации презентаций, знание google analytics и google AdWords.   \n",
       "10  Хотим найти аналитик со занием ms word, ms excel, ms powerpoint, трудолюбивого, имеющего водительское удостоверение, пунктуального.В его задачи будет входить оптимизация бизнес-процессов, руководство стажерами по направлению, web аналитика, аналитика продаж, автоматизация продаж.Плюсом будет умение подготовки и организации презентаций, знание google analytics и google AdWords.   \n",
       "14  Хотим найти аналитик со занием ms word, ms excel, ms powerpoint, трудолюбивого, имеющего водительское удостоверение, пунктуального.В его задачи будет входить оптимизация бизнес-процессов, руководство стажерами по направлению, web аналитика, аналитика продаж, автоматизация продаж.Плюсом будет умение подготовки и организации презентаций, знание google analytics и google AdWords.   \n",
       "19  Хотим найти аналитик со занием ms word, ms excel, ms powerpoint, трудолюбивого, имеющего водительское удостоверение, пунктуального.В его задачи будет входить оптимизация бизнес-процессов, руководство стажерами по направлению, web аналитика, аналитика продаж, автоматизация продаж.Плюсом будет умение подготовки и организации презентаций, знание google analytics и google AdWords.   \n",
       "1   Хотим найти аналитик со занием ms word, ms excel, ms powerpoint, трудолюбивого, имеющего водительское удостоверение, пунктуального.В его задачи будет входить оптимизация бизнес-процессов, руководство стажерами по направлению, web аналитика, аналитика продаж, автоматизация продаж.Плюсом будет умение подготовки и организации презентаций, знание google analytics и google AdWords.   \n",
       "18  Хотим найти аналитик со занием ms word, ms excel, ms powerpoint, трудолюбивого, имеющего водительское удостоверение, пунктуального.В его задачи будет входить оптимизация бизнес-процессов, руководство стажерами по направлению, web аналитика, аналитика продаж, автоматизация продаж.Плюсом будет умение подготовки и организации презентаций, знание google analytics и google AdWords.   \n",
       "6   Хотим найти аналитик со занием ms word, ms excel, ms powerpoint, трудолюбивого, имеющего водительское удостоверение, пунктуального.В его задачи будет входить оптимизация бизнес-процессов, руководство стажерами по направлению, web аналитика, аналитика продаж, автоматизация продаж.Плюсом будет умение подготовки и организации презентаций, знание google analytics и google AdWords.   \n",
       "15  Хотим найти аналитик со занием ms word, ms excel, ms powerpoint, трудолюбивого, имеющего водительское удостоверение, пунктуального.В его задачи будет входить оптимизация бизнес-процессов, руководство стажерами по направлению, web аналитика, аналитика продаж, автоматизация продаж.Плюсом будет умение подготовки и организации презентаций, знание google analytics и google AdWords.   \n",
       "5   Хотим найти аналитик со занием ms word, ms excel, ms powerpoint, трудолюбивого, имеющего водительское удостоверение, пунктуального.В его задачи будет входить оптимизация бизнес-процессов, руководство стажерами по направлению, web аналитика, аналитика продаж, автоматизация продаж.Плюсом будет умение подготовки и организации презентаций, знание google analytics и google AdWords.   \n",
       "8   Хотим найти аналитик со занием ms word, ms excel, ms powerpoint, трудолюбивого, имеющего водительское удостоверение, пунктуального.В его задачи будет входить оптимизация бизнес-процессов, руководство стажерами по направлению, web аналитика, аналитика продаж, автоматизация продаж.Плюсом будет умение подготовки и организации презентаций, знание google analytics и google AdWords.   \n",
       "12  Хотим найти аналитик со занием ms word, ms excel, ms powerpoint, трудолюбивого, имеющего водительское удостоверение, пунктуального.В его задачи будет входить оптимизация бизнес-процессов, руководство стажерами по направлению, web аналитика, аналитика продаж, автоматизация продаж.Плюсом будет умение подготовки и организации презентаций, знание google analytics и google AdWords.   \n",
       "0   Хотим найти аналитик со занием ms word, ms excel, ms powerpoint, трудолюбивого, имеющего водительское удостоверение, пунктуального.В его задачи будет входить оптимизация бизнес-процессов, руководство стажерами по направлению, web аналитика, аналитика продаж, автоматизация продаж.Плюсом будет умение подготовки и организации презентаций, знание google analytics и google AdWords.   \n",
       "3   Хотим найти аналитик со занием ms word, ms excel, ms powerpoint, трудолюбивого, имеющего водительское удостоверение, пунктуального.В его задачи будет входить оптимизация бизнес-процессов, руководство стажерами по направлению, web аналитика, аналитика продаж, автоматизация продаж.Плюсом будет умение подготовки и организации презентаций, знание google analytics и google AdWords.   \n",
       "4   Хотим найти аналитик со занием ms word, ms excel, ms powerpoint, трудолюбивого, имеющего водительское удостоверение, пунктуального.В его задачи будет входить оптимизация бизнес-процессов, руководство стажерами по направлению, web аналитика, аналитика продаж, автоматизация продаж.Плюсом будет умение подготовки и организации презентаций, знание google analytics и google AdWords.   \n",
       "7   Хотим найти аналитик со занием ms word, ms excel, ms powerpoint, трудолюбивого, имеющего водительское удостоверение, пунктуального.В его задачи будет входить оптимизация бизнес-процессов, руководство стажерами по направлению, web аналитика, аналитика продаж, автоматизация продаж.Плюсом будет умение подготовки и организации презентаций, знание google analytics и google AdWords.   \n",
       "9   Хотим найти аналитик со занием ms word, ms excel, ms powerpoint, трудолюбивого, имеющего водительское удостоверение, пунктуального.В его задачи будет входить оптимизация бизнес-процессов, руководство стажерами по направлению, web аналитика, аналитика продаж, автоматизация продаж.Плюсом будет умение подготовки и организации презентаций, знание google analytics и google AdWords.   \n",
       "16  Хотим найти аналитик со занием ms word, ms excel, ms powerpoint, трудолюбивого, имеющего водительское удостоверение, пунктуального.В его задачи будет входить оптимизация бизнес-процессов, руководство стажерами по направлению, web аналитика, аналитика продаж, автоматизация продаж.Плюсом будет умение подготовки и организации презентаций, знание google analytics и google AdWords.   \n",
       "13  Хотим найти аналитик со занием ms word, ms excel, ms powerpoint, трудолюбивого, имеющего водительское удостоверение, пунктуального.В его задачи будет входить оптимизация бизнес-процессов, руководство стажерами по направлению, web аналитика, аналитика продаж, автоматизация продаж.Плюсом будет умение подготовки и организации презентаций, знание google analytics и google AdWords.   \n",
       "20  Хотим найти аналитик со занием ms word, ms excel, ms powerpoint, трудолюбивого, имеющего водительское удостоверение, пунктуального.В его задачи будет входить оптимизация бизнес-процессов, руководство стажерами по направлению, web аналитика, аналитика продаж, автоматизация продаж.Плюсом будет умение подготовки и организации презентаций, знание google analytics и google AdWords.   \n",
       "\n",
       "                                                                                                                                                                                                                              essential_skills  \\\n",
       "11  [ms powerpoint, аналитика, водительское удостоверение категории b, ms outlook, руководство коллективом, googl adword, ms offic, c, ms sql, ms word, ms excel, проведение презентаций, подготовка презентаций, web аналитика, googl analyt]   \n",
       "17  [ms powerpoint, аналитика, водительское удостоверение категории b, ms outlook, руководство коллективом, googl adword, ms offic, c, ms sql, ms word, ms excel, проведение презентаций, подготовка презентаций, web аналитика, googl analyt]   \n",
       "2   [ms powerpoint, аналитика, водительское удостоверение категории b, ms outlook, руководство коллективом, googl adword, ms offic, c, ms sql, ms word, ms excel, проведение презентаций, подготовка презентаций, web аналитика, googl analyt]   \n",
       "10  [ms powerpoint, аналитика, водительское удостоверение категории b, ms outlook, руководство коллективом, googl adword, ms offic, c, ms sql, ms word, ms excel, проведение презентаций, подготовка презентаций, web аналитика, googl analyt]   \n",
       "14  [ms powerpoint, аналитика, водительское удостоверение категории b, ms outlook, руководство коллективом, googl adword, ms offic, c, ms sql, ms word, ms excel, проведение презентаций, подготовка презентаций, web аналитика, googl analyt]   \n",
       "19  [ms powerpoint, аналитика, водительское удостоверение категории b, ms outlook, руководство коллективом, googl adword, ms offic, c, ms sql, ms word, ms excel, проведение презентаций, подготовка презентаций, web аналитика, googl analyt]   \n",
       "1   [ms powerpoint, аналитика, водительское удостоверение категории b, ms outlook, руководство коллективом, googl adword, ms offic, c, ms sql, ms word, ms excel, проведение презентаций, подготовка презентаций, web аналитика, googl analyt]   \n",
       "18  [ms powerpoint, аналитика, водительское удостоверение категории b, ms outlook, руководство коллективом, googl adword, ms offic, c, ms sql, ms word, ms excel, проведение презентаций, подготовка презентаций, web аналитика, googl analyt]   \n",
       "6   [ms powerpoint, аналитика, водительское удостоверение категории b, ms outlook, руководство коллективом, googl adword, ms offic, c, ms sql, ms word, ms excel, проведение презентаций, подготовка презентаций, web аналитика, googl analyt]   \n",
       "15  [ms powerpoint, аналитика, водительское удостоверение категории b, ms outlook, руководство коллективом, googl adword, ms offic, c, ms sql, ms word, ms excel, проведение презентаций, подготовка презентаций, web аналитика, googl analyt]   \n",
       "5   [ms powerpoint, аналитика, водительское удостоверение категории b, ms outlook, руководство коллективом, googl adword, ms offic, c, ms sql, ms word, ms excel, проведение презентаций, подготовка презентаций, web аналитика, googl analyt]   \n",
       "8   [ms powerpoint, аналитика, водительское удостоверение категории b, ms outlook, руководство коллективом, googl adword, ms offic, c, ms sql, ms word, ms excel, проведение презентаций, подготовка презентаций, web аналитика, googl analyt]   \n",
       "12  [ms powerpoint, аналитика, водительское удостоверение категории b, ms outlook, руководство коллективом, googl adword, ms offic, c, ms sql, ms word, ms excel, проведение презентаций, подготовка презентаций, web аналитика, googl analyt]   \n",
       "0   [ms powerpoint, аналитика, водительское удостоверение категории b, ms outlook, руководство коллективом, googl adword, ms offic, c, ms sql, ms word, ms excel, проведение презентаций, подготовка презентаций, web аналитика, googl analyt]   \n",
       "3   [ms powerpoint, аналитика, водительское удостоверение категории b, ms outlook, руководство коллективом, googl adword, ms offic, c, ms sql, ms word, ms excel, проведение презентаций, подготовка презентаций, web аналитика, googl analyt]   \n",
       "4   [ms powerpoint, аналитика, водительское удостоверение категории b, ms outlook, руководство коллективом, googl adword, ms offic, c, ms sql, ms word, ms excel, проведение презентаций, подготовка презентаций, web аналитика, googl analyt]   \n",
       "7   [ms powerpoint, аналитика, водительское удостоверение категории b, ms outlook, руководство коллективом, googl adword, ms offic, c, ms sql, ms word, ms excel, проведение презентаций, подготовка презентаций, web аналитика, googl analyt]   \n",
       "9   [ms powerpoint, аналитика, водительское удостоверение категории b, ms outlook, руководство коллективом, googl adword, ms offic, c, ms sql, ms word, ms excel, проведение презентаций, подготовка презентаций, web аналитика, googl analyt]   \n",
       "16  [ms powerpoint, аналитика, водительское удостоверение категории b, ms outlook, руководство коллективом, googl adword, ms offic, c, ms sql, ms word, ms excel, проведение презентаций, подготовка презентаций, web аналитика, googl analyt]   \n",
       "13  [ms powerpoint, аналитика, водительское удостоверение категории b, ms outlook, руководство коллективом, googl adword, ms offic, c, ms sql, ms word, ms excel, проведение презентаций, подготовка презентаций, web аналитика, googl analyt]   \n",
       "20  [ms powerpoint, аналитика, водительское удостоверение категории b, ms outlook, руководство коллективом, googl adword, ms offic, c, ms sql, ms word, ms excel, проведение презентаций, подготовка презентаций, web аналитика, googl analyt]   \n",
       "\n",
       "                                                                                                                                                                                                                                                            nice_to_have_skills  \\\n",
       "11  [водительское удостоверение категории bc, adob analyt, автоматизация продаж, ms visio, seo оптимизация, googl doc, прогнозирование продаж, организация презентаций, ms project, erp, оптимизация бизнеспроцессов, ms access, оптимизация налогообложения, аналитика продаж]   \n",
       "17  [водительское удостоверение категории bc, adob analyt, автоматизация продаж, ms visio, seo оптимизация, googl doc, прогнозирование продаж, организация презентаций, ms project, erp, оптимизация бизнеспроцессов, ms access, оптимизация налогообложения, аналитика продаж]   \n",
       "2   [водительское удостоверение категории bc, adob analyt, автоматизация продаж, ms visio, seo оптимизация, googl doc, прогнозирование продаж, организация презентаций, ms project, erp, оптимизация бизнеспроцессов, ms access, оптимизация налогообложения, аналитика продаж]   \n",
       "10  [водительское удостоверение категории bc, adob analyt, автоматизация продаж, ms visio, seo оптимизация, googl doc, прогнозирование продаж, организация презентаций, ms project, erp, оптимизация бизнеспроцессов, ms access, оптимизация налогообложения, аналитика продаж]   \n",
       "14  [водительское удостоверение категории bc, adob analyt, автоматизация продаж, ms visio, seo оптимизация, googl doc, прогнозирование продаж, организация презентаций, ms project, erp, оптимизация бизнеспроцессов, ms access, оптимизация налогообложения, аналитика продаж]   \n",
       "19  [водительское удостоверение категории bc, adob analyt, автоматизация продаж, ms visio, seo оптимизация, googl doc, прогнозирование продаж, организация презентаций, ms project, erp, оптимизация бизнеспроцессов, ms access, оптимизация налогообложения, аналитика продаж]   \n",
       "1   [водительское удостоверение категории bc, adob analyt, автоматизация продаж, ms visio, seo оптимизация, googl doc, прогнозирование продаж, организация презентаций, ms project, erp, оптимизация бизнеспроцессов, ms access, оптимизация налогообложения, аналитика продаж]   \n",
       "18  [водительское удостоверение категории bc, adob analyt, автоматизация продаж, ms visio, seo оптимизация, googl doc, прогнозирование продаж, организация презентаций, ms project, erp, оптимизация бизнеспроцессов, ms access, оптимизация налогообложения, аналитика продаж]   \n",
       "6   [водительское удостоверение категории bc, adob analyt, автоматизация продаж, ms visio, seo оптимизация, googl doc, прогнозирование продаж, организация презентаций, ms project, erp, оптимизация бизнеспроцессов, ms access, оптимизация налогообложения, аналитика продаж]   \n",
       "15  [водительское удостоверение категории bc, adob analyt, автоматизация продаж, ms visio, seo оптимизация, googl doc, прогнозирование продаж, организация презентаций, ms project, erp, оптимизация бизнеспроцессов, ms access, оптимизация налогообложения, аналитика продаж]   \n",
       "5   [водительское удостоверение категории bc, adob analyt, автоматизация продаж, ms visio, seo оптимизация, googl doc, прогнозирование продаж, организация презентаций, ms project, erp, оптимизация бизнеспроцессов, ms access, оптимизация налогообложения, аналитика продаж]   \n",
       "8   [водительское удостоверение категории bc, adob analyt, автоматизация продаж, ms visio, seo оптимизация, googl doc, прогнозирование продаж, организация презентаций, ms project, erp, оптимизация бизнеспроцессов, ms access, оптимизация налогообложения, аналитика продаж]   \n",
       "12  [водительское удостоверение категории bc, adob analyt, автоматизация продаж, ms visio, seo оптимизация, googl doc, прогнозирование продаж, организация презентаций, ms project, erp, оптимизация бизнеспроцессов, ms access, оптимизация налогообложения, аналитика продаж]   \n",
       "0   [водительское удостоверение категории bc, adob analyt, автоматизация продаж, ms visio, seo оптимизация, googl doc, прогнозирование продаж, организация презентаций, ms project, erp, оптимизация бизнеспроцессов, ms access, оптимизация налогообложения, аналитика продаж]   \n",
       "3   [водительское удостоверение категории bc, adob analyt, автоматизация продаж, ms visio, seo оптимизация, googl doc, прогнозирование продаж, организация презентаций, ms project, erp, оптимизация бизнеспроцессов, ms access, оптимизация налогообложения, аналитика продаж]   \n",
       "4   [водительское удостоверение категории bc, adob analyt, автоматизация продаж, ms visio, seo оптимизация, googl doc, прогнозирование продаж, организация презентаций, ms project, erp, оптимизация бизнеспроцессов, ms access, оптимизация налогообложения, аналитика продаж]   \n",
       "7   [водительское удостоверение категории bc, adob analyt, автоматизация продаж, ms visio, seo оптимизация, googl doc, прогнозирование продаж, организация презентаций, ms project, erp, оптимизация бизнеспроцессов, ms access, оптимизация налогообложения, аналитика продаж]   \n",
       "9   [водительское удостоверение категории bc, adob analyt, автоматизация продаж, ms visio, seo оптимизация, googl doc, прогнозирование продаж, организация презентаций, ms project, erp, оптимизация бизнеспроцессов, ms access, оптимизация налогообложения, аналитика продаж]   \n",
       "16  [водительское удостоверение категории bc, adob analyt, автоматизация продаж, ms visio, seo оптимизация, googl doc, прогнозирование продаж, организация презентаций, ms project, erp, оптимизация бизнеспроцессов, ms access, оптимизация налогообложения, аналитика продаж]   \n",
       "13  [водительское удостоверение категории bc, adob analyt, автоматизация продаж, ms visio, seo оптимизация, googl doc, прогнозирование продаж, организация презентаций, ms project, erp, оптимизация бизнеспроцессов, ms access, оптимизация налогообложения, аналитика продаж]   \n",
       "20  [водительское удостоверение категории bc, adob analyt, автоматизация продаж, ms visio, seo оптимизация, googl doc, прогнозирование продаж, организация презентаций, ms project, erp, оптимизация бизнеспроцессов, ms access, оптимизация налогообложения, аналитика продаж]   \n",
       "\n",
       "                                        id  \\\n",
       "11  2425ef0c00041dfaef0039ed1f6977786a6442   \n",
       "17  a97d01350003092e090039ed1f6465694e7661   \n",
       "2   337f25cc000380a8ca0039ed1f7745554c5333   \n",
       "10  90733f8500041d0e4e0039ed1f51324649766a   \n",
       "14  fd2167820003f074510039ed1f61536e433246   \n",
       "19  73c897850000930ecb0039ed1f736563726574   \n",
       "1   6b8c829b00038ee9470039ed1f6c4a30326a43   \n",
       "18  fba5505c0002ca04b60039ed1f555856796b55   \n",
       "6   a81f07b600013c595f0039ed1f695533515773   \n",
       "15  f0a03b4b0002d893070039ed1f54304c4f7872   \n",
       "5   a5d68189000274614d0039ed1f6262706b3948   \n",
       "8   bd94952e0003723cf80039ed1f7448774f6d69   \n",
       "12  6578189d0000ad2f710039ed1f736563726574   \n",
       "0   016bea2e0000c902ea0039ed1f514235754343   \n",
       "3   13855d8f000403568f0039ed1f796833587a4f   \n",
       "4   22bd974a00036f11c80039ed1f65375736594e   \n",
       "7   a6238e73000354ac6e0039ed1f663970634966   \n",
       "9   3446b6820003c3384d0039ed1f4e4a72776966   \n",
       "16  9abe579e0000bafce70039ed1f736563726574   \n",
       "13  dad443cb000247d5c10039ed1f78554b675143   \n",
       "20  f4d1f06f00033573de0039ed1f51674b745357   \n",
       "\n",
       "                                                                                                                                                                                                                                                                                                                                                                                                                                                                                                                                                                                                                                                                                                                                                            skill_set  \\\n",
       "11                                                                                                                                                                                                                                                                                                                                                                                                                                                                                                                                                                                                     [Английский язык, MS Office, MS PowerPoint, SMM, MS Excel, ERP, 1С, WEB аналитика, Веб-аналитика, Google Analytics, Яндекс.Метрика, MS SQL, Аналитика, Python]   \n",
       "17                                                                                                                                                                                                                                                                                                                                                                       [MS Excel, Подготовка отчетов, MS Word, MS PowerPoint, Яндекс.Директ, Яндекс.Метрика, Google AdWords, Google Analytics, Копирайтинг, EMAIL, HTML, JOOMLA, WIX, Создание сайтов, Работа с доменами, Таргетинг, SMM, Adobe Photoshop, Английский язык, Google Docs, Adobe Analytics, Social Media Marketing, Keynotes, Ведение групп в социальных сетях, MS Project, SERM, CPC, CPM, CPL, UTM]   \n",
       "2                                                                                                                                                                                                                                                                                                                                                                                                                                                                                                                                                               [MS Word, MS Excel, MS PowerPoint, Prezi, MS SQL, Access, Mathcad, MATLAB, C/C++, Python, Английский язык, AutoCAD, Windows Forms, Qt, C#, ARIS, Pega, Atlassian Jira, Oxygen Xml Editor, Unix, SOAP]   \n",
       "10                                                       [Маркетинговые исследования, Маркетинговые коммуникации, Продвижение бренда, Анализ рынка, прогнозирование продаж, B2B маркетинг, Социологические исследования, SWOT анализ, MS PowerPoint, Adobe Photoshop, Аналитическое мышление, Навыки презентации, Творческое мышление, Маркетинговый анализ, Подготовка презентаций, Поиск информации в интернет, Поиск и привлечение клиентов, SMS маркетинг, Стратегическое мышление, Оценка потребностей клиентов, Анализ PR стратегии конкурентов, Анализ конкурентной среды, Статистический анализ, Аналитические исследования, Яндекс.Директ, Google AdWords, Google Analytics, Cоциальный маркетинг, Продвижение объекта, Планирование маркетинговых кампаний]   \n",
       "14                                                                                                                                                                                                                              [Пользователь ПК, Adobe Photoshop, MS Word, MS Excel, MS Outlook, MS Access, MS PowerPoint, Документооборот, Электронный документооборот, Архивирование, Делопроизводство, Ведение отчетности, Английский язык, Грамотная речь, Работа с системами аналитики, Написание научный статей, Написание пресс-релизов, Организация мероприятий, Аналитический склад ума, Adobe Acrobat, GR, Работа с большим объемом информации, Офисная техника, Работа со СМИ, Грамотность, Деловое общение, Телефонные переговоры, Сводные таблицы, ВПР]   \n",
       "19                                                                                                                                                                                                                                                                          [1С: Торговля, Adobe Photoshop, HTTP, iOS, MS Excel, MS Outlook, MS Word, Sphinx, Windows Server 2003, Windows Server 2008, Windows Server 2012, Mac Os, Водительское удостоверение категории B, MS Internet Explorer, Ведение переговоров, Прямые продажи, Холодные продажи, Работа с дебиторской задолженностью, Поиск и привлечение клиентов, HoReCa, Охрана объекта, работа с текущей базой клиентов, Вождение автомобилей представительского класса, Управление офисными водителями]   \n",
       "1                                                                                                                                                                                                                                       [Internet Marketing, Яндекс.Метрика, Google Analytics, Google AdWords, Яндекс.Директ, Контекстная реклама, CRM, Управление отношениями с клиентами, Интернет-реклама, Баннерная реклама, Yandex Direct, Лидогенерация, E-Mail Marketing, E-Commerce, Social Media Marketing, B2C маркетинг, B2B Marketing, Интернет маркетинг, Маркетинг услуг, Информационные технологии, Usability, WEB аналитика, ERP Systems, RTB, CPA, Аналитика продаж, Автоматизация продаж, Автоматизация контекстных кампаний, SEM, SEO оптимизация]   \n",
       "18                                                                                                                                                                                                                                                                                                                                                                                                                                           [Cистемы управления базами данных, Управление проектами, Математическое программирование, Ведение переговоров, Проведение презентаций, MS SQL, Математическая статистика, Написание научный статей, C/C++, Статистический анализ, Математическое моделирование, Анализ данных, Математический анализ, Аналитика, MATLAB]   \n",
       "6                                                                                                                                                                                                                                                                                                                                                                            [Продвижение бренда, Управление командой, Участие в профессиональных выставках, Наличие контактов с журналистами, Анализ PR стратегии конкурентов, Управление проектами, Проведение презентаций, Разработка концепции, Работа со СМИ, Подготовка презентаций, Разработка нового продукта, Internet Marketing, Организация презентаций, Программы лояльности, Маркетинговые коммуникации]   \n",
       "15                                                                                                                                                                                                                                                                                                                                                                                                                                                                                                 [Статистический анализ, Scrum, Agile Project Management, Atlassian Confluence, Atlassian Jira, MS Outlook, MS Visio, MS PowerPoint, Работа в команде, Product Development, Разработка продукта, Customer Needs Analysis, Product Management, Управление продуктом]   \n",
       "5                                                                                                                                                                                                                                                                                                                                                                                                                                                                                                                                            [Английский язык, Тестирование, Django Framework, Python, HTML, HTML5, CSS3, CSS, Bootstrap, Zend Framework, .NET Framework, ASP.NET, JavaScript, React.js, Node.js, API, Git, C#, MS Visual Studio, C++, MS SQL Server]   \n",
       "8                                                                                                                                                                                                                                                                                                                                                                                                                                                                                                          [1C: Бухгалтерия, Деловая переписка, Статистический анализ, Анализ данных, MS Outlook, Телефонные переговоры, Английский язык, MS Excel, Работа в команде, Выявление потребностей в обучении, Групповое обучение, Организация внешнего обучения, Обучение]   \n",
       "12                                                                                                                                                                          [Оценка стоимости бизнеса, Корпоративные финансы, Инвестиции, Проектное финансирование, Инвестиционный анализ, Бюджетирование, Руководство коллективом, Аналитические исследования, Бизнес-планирование, Финансовый анализ, Финансовое планирование, Оценка инвестиционных проектов, Финансовое моделирование, Ведение переговоров, Анализ инвестиционных проектов, Организаторские навыки, Деловая переписка, Работа с инвесторами, Финансовый менеджмент, Инвестиционный консалтинг, Проведение презентаций, Оценка недвижимости, Привлечение денежных средств, Привлечение инвестиций]   \n",
       "0                                                                                                                                                                                                                                                                                                                                                                                                                                                                                                                                                                     [Управление лояльностью потребителей, Оптимизация бизнес-процессов, Руководство коллективом, CRM, Развитие дистанционных каналов продаж и обслуживания, Продажи через интернет, Прямые продажи]   \n",
       "3                                                                                                                                                                                                                                                                                                                                                                                                                                                                                                                                                                                                                   [Web Application Development, SQL, NoSQL, JavaScript, Clojure (ClojureScript), React Native, GraphQL, C#, Scrum, Управление командой, Менторство]   \n",
       "4                                                                                                                                                                                                                                                                                                                                                                                                                                                                                                                                                                                                                                                      [MS Visual C++, Python, JavaScript, Английский язык, Linux, Java EE, SQLite, Java Core, MS SQL, Intellij IDEA]   \n",
       "7                                                                                                                                                                                                                                                                                                                                                                                                                                                                                                                                                                                          [Работа в команде, Пользователь ПК, Навыки межличностного общения, Организаторские навыки, Активные продажи, Управление продажами, Водительское удостоверение категории B]   \n",
       "9                                                                                                                                                                                                                                                                                                                                                                                                                                                                                                [Аналитические исследования, MS Office, Анализ данных, Деловая переписка, Финансовый контроль, SMM, Написание статей, Редактирование текстов, Верстка, Финансовое моделирование, Корпоративные финансы, Adobe InDesign, Полиграфический дизайн, Управленческий учет]   \n",
       "16                                                                                                                                                                                                                                                                                                                                                                                                        [Бюджетирование, Планирование, Статистика, MS Outlook, Расчет себестоимости, 1С: Предприятие 8, Аналитические исследования, Управление проектами, Краткосрочное бюджетирование и планирование, Управленческая отчетность, Формирование бюджета, Управленческий учет, Английский язык, Экономический анализ, Финансовое планирование, Статистический анализ]   \n",
       "13  [Контроль ведения налоговой отчетности, Локальное налогообложение, Сопровождение налогового аудита, Финансовый контроль, Управление налоговыми рисками, Оптимизация налогообложения, Финансовый анализ, Российские стандарты бухгалтерского учета, Управление рисками, Управленческая отчетность, трансфертное ценообразование, планирование и прогнозирование, Внутренний финансовый аудит, консультаций в области налогообложения РФ, правил РСБУ и ТЦО, представление интересов Компании во взаимодействии с налоговыми органами, аудиторами, анализ и оценка инвестиционных и инновационных проектов, анализ финансово-хозяйственной деятельности организации, постановки/снятия с учета в налоговом органе и едином государственном реестре юридических лиц]   \n",
       "20                                                                                                                                                                                                                                                                                                                                                                                                                                                                                                                                                                                                                                                [Умение работать в команде, Водительское  удостоверение категории BC, Работа с людьми, Материальная отвественность]   \n",
       "\n",
       "   es_skills_counter nth_skills_counter  \n",
       "11                 7                  1  \n",
       "17                 5                  3  \n",
       "2                  5                  0  \n",
       "10                 4                  1  \n",
       "14                 4                  1  \n",
       "19                 4                  0  \n",
       "1                  3                  3  \n",
       "18                 3                  0  \n",
       "6                  2                  1  \n",
       "15                 2                  1  \n",
       "5                  2                  0  \n",
       "8                  2                  0  \n",
       "12                 2                  0  \n",
       "0                  1                  1  \n",
       "3                  1                  0  \n",
       "4                  1                  0  \n",
       "7                  1                  0  \n",
       "9                  1                  0  \n",
       "16                 1                  0  \n",
       "13                 0                  1  \n",
       "20                 0                  1  "
      ]
     },
     "execution_count": 252,
     "metadata": {},
     "output_type": "execute_result"
    }
   ],
   "source": [
    "result.sort_values(['text', 'es_skills_counter', 'nth_skills_counter'], ascending=False)[['text', 'essential_skills', 'nice_to_have_skills', 'id', 'skill_set', 'es_skills_counter', 'nth_skills_counter']]"
   ]
  },
  {
   "cell_type": "code",
   "execution_count": null,
   "metadata": {
    "collapsed": true
   },
   "outputs": [],
   "source": []
  },
  {
   "cell_type": "markdown",
   "metadata": {},
   "source": [
    "## result"
   ]
  },
  {
   "cell_type": "code",
   "execution_count": 206,
   "metadata": {},
   "outputs": [
    {
     "data": {
      "text/plain": [
       "{'es_skills': ['Python',\n",
       "  'Celery',\n",
       "  'Flask',\n",
       "  'Redis',\n",
       "  'RabbitMQ',\n",
       "  'PostgreSQL',\n",
       "  'Docker',\n",
       "  'Docker Swarm',\n",
       "  'Sentry',\n",
       "  'Linux',\n",
       "  'Reverse engineering',\n",
       "  'React',\n",
       "  'ES6',\n",
       "  'Git',\n",
       "  'WebSocket'],\n",
       " 'nth_skills': ['GG', 'GG'],\n",
       " 'resume': [{'es_skills_p': 55, 'id': 'eflkej', 'nth_skills': 65},\n",
       "  {'es_skills_p': 55, 'id': 'eflkej', 'nth_skills': 65},\n",
       "  {'es_skills_p': 55, 'id': 'eflkej', 'nth_skills': 65},\n",
       "  {'es_skills_p': 55, 'id': 'eflkej', 'nth_skills': 65},\n",
       "  {'es_skills_p': 55, 'id': 'eflkej', 'nth_skills': 65}]}"
      ]
     },
     "execution_count": 206,
     "metadata": {},
     "output_type": "execute_result"
    }
   ],
   "source": [
    "j_str = \"{\"\n",
    "\n",
    "j_str = j_str + \"\"\"\"es_skills\":{0},\n",
    "               \"nth_skills\":[\"GG\", \"GG\"],\n",
    "               \"resume\":[\"\"\".format(str([x for x in resume_df.skill_set.values[0]]).replace(\"'\", \"\\\"\"))\n",
    "\n",
    "for index, row in resume_df.head().iterrows():\n",
    "    id = row.id\n",
    "    es_skill_p = 0.3\n",
    "    nth_skill_p = 0.5\n",
    "    \n",
    "    j_str = j_str + \"{\"\n",
    "    j_str = j_str + \"\"\"\"id\":{0}, \"es_skills_p\":{1}, \"nth_skills\":{2}\"\"\".format(\"\\\"eflkej\\\"\", 55, 65)\n",
    "    j_str = j_str + \"},\"\n",
    "\n",
    "j_str = j_str.rstrip(',') + ']}'\n",
    "\n",
    "j = json.loads(j_str)\n",
    "\n",
    "j"
   ]
  }
 ],
 "metadata": {
  "kernelspec": {
   "display_name": "Python 3",
   "language": "python",
   "name": "python3"
  },
  "language_info": {
   "codemirror_mode": {
    "name": "ipython",
    "version": 3
   },
   "file_extension": ".py",
   "mimetype": "text/x-python",
   "name": "python",
   "nbconvert_exporter": "python",
   "pygments_lexer": "ipython3",
   "version": "3.6.2"
  }
 },
 "nbformat": 4,
 "nbformat_minor": 2
}
